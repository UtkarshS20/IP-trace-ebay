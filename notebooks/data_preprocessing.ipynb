{
 "cells": [
  {
   "cell_type": "code",
   "execution_count": null,
   "metadata": {},
   "outputs": [],
   "source": [
    "import pandas as pd\n",
    "import dask.dataframe as dd\n",
    "\n",
    "# Load the CSV file into a Dask DataFrame\n",
    "df = dd.read_csv('../data/raw/data_raw.csv')\n",
    "\n",
    "# Optionally, display the first few rows\n",
    "df.head()\n"
   ]
  },
  {
   "cell_type": "code",
   "execution_count": null,
   "metadata": {},
   "outputs": [],
   "source": [
    "category_counts_AMS_TRANS_RSN_CD = df['AMS_trans_rsn_cd'].value_counts().compute()\n",
    "print(\"category_counts_AMS_TRANS_RSN_CD\", category_counts_AMS_TRANS_RSN_CD)\n"
   ]
  },
  {
   "cell_type": "code",
   "execution_count": null,
   "metadata": {},
   "outputs": [],
   "source": [
    "with open('../data/vpn_txt/vpn_ips.txt', 'r') as file:\n",
    "    ip_set = set(file.read().splitlines())\n",
    "\n",
    "# Filter the DataFrame to exclude rows with IPs in the ip_set\n",
    "filtered_df = df[~df['CLNT_RMT_IP'].isin(ip_set)]\n",
    "\n",
    "# Optionally, compute to bring the result into memory (if necessary)\n",
    "filtered_df = filtered_df.compute()\n",
    "print(filtered_df.head())\n"
   ]
  },
  {
   "cell_type": "code",
   "execution_count": null,
   "metadata": {},
   "outputs": [],
   "source": [
    "# category_counts_AMS_TRANS_RSN_CD_post_vpn_filter = filtered_df['AMS_trans_rsn_cd'].value_counts().compute()\n",
    "# print(\"category_counts_AMS_TRANS_RSN_CD\", category_counts_AMS_TRANS_RSN_CD_post_vpn_filter)\n",
    "# Number of rows (requires computation)\n",
    "num_rows = len(filtered_df)  # Or, data.shape[0].compute() if you want to be explicit\n",
    "\n",
    "# Number of columns (does not require computation)\n",
    "num_columns = len(filtered_df.columns)\n",
    "\n",
    "# Display the shape\n",
    "print(\"Shape:\", (num_rows, num_columns))\n"
   ]
  },
  {
   "cell_type": "code",
   "execution_count": null,
   "metadata": {},
   "outputs": [],
   "source": [
    "filtered_df.columns"
   ]
  },
  {
   "cell_type": "code",
   "execution_count": null,
   "metadata": {},
   "outputs": [],
   "source": [
    "filtered_df.to_csv('../data/processed/data_vpn_removed.csv')"
   ]
  },
  {
   "cell_type": "code",
   "execution_count": 1,
   "metadata": {},
   "outputs": [],
   "source": [
    "import pandas as pd\n",
    "data = pd.read_csv('../data/processed/data_vpn_removed.csv')"
   ]
  },
  {
   "cell_type": "code",
   "execution_count": 2,
   "metadata": {},
   "outputs": [
    {
     "data": {
      "text/plain": [
       "Index(['CLNT_RMT_IP', 'AMS_trans_rsn_cd', 'BRWSR_NAME', 'CLICK_TS'], dtype='object')"
      ]
     },
     "execution_count": 2,
     "metadata": {},
     "output_type": "execute_result"
    }
   ],
   "source": [
    "data = data.drop('Unnamed: 0', axis=1)\n",
    "data.columns"
   ]
  },
  {
   "cell_type": "code",
   "execution_count": 3,
   "metadata": {},
   "outputs": [],
   "source": [
    "import numpy as np\n",
    "data['status'] = np.where(data['AMS_trans_rsn_cd'] == 0, 1, 0)\n"
   ]
  },
  {
   "cell_type": "code",
   "execution_count": 4,
   "metadata": {},
   "outputs": [
    {
     "data": {
      "text/html": [
       "<div>\n",
       "<style scoped>\n",
       "    .dataframe tbody tr th:only-of-type {\n",
       "        vertical-align: middle;\n",
       "    }\n",
       "\n",
       "    .dataframe tbody tr th {\n",
       "        vertical-align: top;\n",
       "    }\n",
       "\n",
       "    .dataframe thead th {\n",
       "        text-align: right;\n",
       "    }\n",
       "</style>\n",
       "<table border=\"1\" class=\"dataframe\">\n",
       "  <thead>\n",
       "    <tr style=\"text-align: right;\">\n",
       "      <th></th>\n",
       "      <th>CLNT_RMT_IP</th>\n",
       "      <th>AMS_trans_rsn_cd</th>\n",
       "      <th>BRWSR_NAME</th>\n",
       "      <th>CLICK_TS</th>\n",
       "      <th>status</th>\n",
       "    </tr>\n",
       "  </thead>\n",
       "  <tbody>\n",
       "    <tr>\n",
       "      <th>0</th>\n",
       "      <td>194.182.199.141</td>\n",
       "      <td>0</td>\n",
       "      <td>Mozilla/5.0 (iPhone; CPU iPhone OS 18_0_1 like...</td>\n",
       "      <td>2024-10-23 02:59:14</td>\n",
       "      <td>1</td>\n",
       "    </tr>\n",
       "    <tr>\n",
       "      <th>1</th>\n",
       "      <td>37.163.216.86</td>\n",
       "      <td>0</td>\n",
       "      <td>Mozilla/5.0 (Linux; Android 10; K) AppleWebKit...</td>\n",
       "      <td>2024-10-23 02:58:23</td>\n",
       "      <td>1</td>\n",
       "    </tr>\n",
       "    <tr>\n",
       "      <th>2</th>\n",
       "      <td>93.224.234.210</td>\n",
       "      <td>0</td>\n",
       "      <td>Mozilla/5.0 (Windows NT 10.0; Win64; x64) Appl...</td>\n",
       "      <td>2024-10-23 02:57:50</td>\n",
       "      <td>1</td>\n",
       "    </tr>\n",
       "    <tr>\n",
       "      <th>3</th>\n",
       "      <td>109.157.109.33</td>\n",
       "      <td>0</td>\n",
       "      <td>Mozilla/5.0 (iPhone; CPU iPhone OS 11_0 like M...</td>\n",
       "      <td>2024-10-23 02:57:26</td>\n",
       "      <td>1</td>\n",
       "    </tr>\n",
       "    <tr>\n",
       "      <th>4</th>\n",
       "      <td>203.122.13.189</td>\n",
       "      <td>0</td>\n",
       "      <td>Mozilla/5.0 (Windows NT 10.0; Win64; x64) Appl...</td>\n",
       "      <td>2024-10-23 02:57:20</td>\n",
       "      <td>1</td>\n",
       "    </tr>\n",
       "  </tbody>\n",
       "</table>\n",
       "</div>"
      ],
      "text/plain": [
       "       CLNT_RMT_IP  AMS_trans_rsn_cd  \\\n",
       "0  194.182.199.141                 0   \n",
       "1    37.163.216.86                 0   \n",
       "2   93.224.234.210                 0   \n",
       "3   109.157.109.33                 0   \n",
       "4   203.122.13.189                 0   \n",
       "\n",
       "                                          BRWSR_NAME             CLICK_TS  \\\n",
       "0  Mozilla/5.0 (iPhone; CPU iPhone OS 18_0_1 like...  2024-10-23 02:59:14   \n",
       "1  Mozilla/5.0 (Linux; Android 10; K) AppleWebKit...  2024-10-23 02:58:23   \n",
       "2  Mozilla/5.0 (Windows NT 10.0; Win64; x64) Appl...  2024-10-23 02:57:50   \n",
       "3  Mozilla/5.0 (iPhone; CPU iPhone OS 11_0 like M...  2024-10-23 02:57:26   \n",
       "4  Mozilla/5.0 (Windows NT 10.0; Win64; x64) Appl...  2024-10-23 02:57:20   \n",
       "\n",
       "   status  \n",
       "0       1  \n",
       "1       1  \n",
       "2       1  \n",
       "3       1  \n",
       "4       1  "
      ]
     },
     "execution_count": 4,
     "metadata": {},
     "output_type": "execute_result"
    }
   ],
   "source": [
    "data.head()"
   ]
  },
  {
   "cell_type": "code",
   "execution_count": 5,
   "metadata": {},
   "outputs": [
    {
     "name": "stdout",
     "output_type": "stream",
     "text": [
      "AMS_trans_rsn_cd\n",
      "0    805955\n",
      "6     95564\n",
      "7     55622\n",
      "8     10976\n",
      "4      9753\n",
      "2       554\n",
      "5         4\n",
      "Name: count, dtype: int64\n"
     ]
    }
   ],
   "source": [
    "category_counts = data['AMS_trans_rsn_cd'].value_counts()\n",
    "print(category_counts)"
   ]
  },
  {
   "cell_type": "code",
   "execution_count": 6,
   "metadata": {},
   "outputs": [
    {
     "data": {
      "image/png": "[encoded data removed]",
      "text/plain": [
       "<Figure size 800x500 with 1 Axes>"
      ]
     },
     "metadata": {},
     "output_type": "display_data"
    }
   ],
   "source": [
    "import seaborn as sns\n",
    "import matplotlib.pyplot as plt\n",
    "category_counts = data['status'].value_counts()\n",
    "plt.figure(figsize=(8, 5))\n",
    "category_counts.plot(kind='bar', color='skyblue')\n",
    "plt.title('Bar Plot of Categorical Variable')\n",
    "plt.xlabel('Categories')\n",
    "plt.ylabel('Counts')\n",
    "plt.xticks(rotation=0)\n",
    "plt.show()"
   ]
  },
  {
   "cell_type": "code",
   "execution_count": 7,
   "metadata": {},
   "outputs": [
    {
     "data": {
      "application/vnd.jupyter.widget-view+json": {
       "model_id": "0d2ef8a70ad34b64bb0533ac002c304a",
       "version_major": 2,
       "version_minor": 0
      },
      "text/plain": [
       "Pandas Apply:   0%|          | 0/978428 [00:00<?, ?it/s]"
      ]
     },
     "metadata": {},
     "output_type": "display_data"
    }
   ],
   "source": [
    "from user_agents import parse\n",
    "import pandas as pd\n",
    "import swifter  # for parallel processing with Pandas (install with `pip install swifter`)\n",
    "\n",
    "# Dictionary to cache parsed user-agent strings and reduce redundant parsing\n",
    "user_agent_cache = {}\n",
    "\n",
    "def extract_user_agent_features_optimized(ua_string):\n",
    "    # Check if this user-agent string has already been parsed\n",
    "    if ua_string in user_agent_cache:\n",
    "        return user_agent_cache[ua_string]\n",
    "    \n",
    "    # Parse the user agent string and store parsed results in a variable\n",
    "    user_agent = parse(ua_string)\n",
    "    \n",
    "    # Extract required features\n",
    "    result = {\n",
    "        'browser': user_agent.browser.family,\n",
    "        # 'browser_version': user_agent.browser.version_string,\n",
    "        'os': user_agent.os.family,\n",
    "        # 'os_version': user_agent.os.version_string,\n",
    "        'device_type': (\n",
    "    'mobile' if user_agent.is_mobile else\n",
    "    'desktop' if user_agent.is_pc else\n",
    "    'tablet' if user_agent.is_tablet else\n",
    "    'bot' if user_agent.is_bot else 'other'\n",
    "        )\n",
    "    }\n",
    "    \n",
    "    # Store result in the cache\n",
    "    user_agent_cache[ua_string] = result\n",
    "    \n",
    "    return result\n",
    "\n",
    "# Apply optimized function to the user-agent column with parallel processing using swifter\n",
    "df_user_agent_features = data['BRWSR_NAME'].swifter.apply(extract_user_agent_features_optimized).apply(pd.Series)\n",
    "\n"
   ]
  },
  {
   "cell_type": "code",
   "execution_count": 15,
   "metadata": {},
   "outputs": [],
   "source": [
    "# data.head()\n",
    "df_os_browser = pd.concat([data, df_user_agent_features], axis=1)\n"
   ]
  },
  {
   "cell_type": "code",
   "execution_count": 16,
   "metadata": {},
   "outputs": [
    {
     "data": {
      "text/plain": [
       "Index(['CLNT_RMT_IP', 'AMS_trans_rsn_cd', 'BRWSR_NAME', 'CLICK_TS', 'status',\n",
       "       'browser', 'os', 'device_type'],\n",
       "      dtype='object')"
      ]
     },
     "execution_count": 16,
     "metadata": {},
     "output_type": "execute_result"
    }
   ],
   "source": [
    "df_os_browser.columns"
   ]
  },
  {
   "cell_type": "code",
   "execution_count": 17,
   "metadata": {},
   "outputs": [
    {
     "data": {
      "text/plain": [
       "Index(['CLNT_RMT_IP', 'AMS_trans_rsn_cd', 'CLICK_TS', 'status', 'browser',\n",
       "       'os', 'device_type'],\n",
       "      dtype='object')"
      ]
     },
     "execution_count": 17,
     "metadata": {},
     "output_type": "execute_result"
    }
   ],
   "source": [
    "df_os_browser = df_os_browser.drop('BRWSR_NAME', axis=1)\n",
    "df_os_browser.columns"
   ]
  },
  {
   "cell_type": "code",
   "execution_count": null,
   "metadata": {},
   "outputs": [],
   "source": [
    "category_counts_AMS_TRANS_RSN_CD = data['AMS_trans_rsn_cd'].value_counts()\n",
    "print(category_counts_AMS_TRANS_RSN_CD)\n",
    "\n",
    "\n",
    "category_counts_AMS_TRANS_RSN_CD = data['status'].value_counts()\n",
    "print(category_counts_AMS_TRANS_RSN_CD)\n"
   ]
  },
  {
   "cell_type": "code",
   "execution_count": 18,
   "metadata": {},
   "outputs": [
    {
     "name": "stdout",
     "output_type": "stream",
     "text": [
      "category_counts_device_type device_type\n",
      "mobile     562280\n",
      "desktop    367367\n",
      "bot         27018\n",
      "tablet      14065\n",
      "other        7698\n",
      "Name: count, dtype: int64\n",
      "category_counts_os os\n",
      "Android                 296434\n",
      "iOS                     283867\n",
      "Windows                 280771\n",
      "Mac OS X                 60787\n",
      "Other                    29425\n",
      "Linux                    15173\n",
      "Ubuntu                    6018\n",
      "Chrome OS                 3104\n",
      "FreeBSD                    448\n",
      "Gentoo                     441\n",
      "Fedora                     365\n",
      "SUSE                       333\n",
      "Slackware                  300\n",
      "OpenBSD                    191\n",
      "CentOS                     178\n",
      "Red Hat                    162\n",
      "NetBSD                     145\n",
      "Debian                     119\n",
      "Arch Linux                  38\n",
      "Mageia                      35\n",
      "Mac OS                      29\n",
      "Windows Phone               16\n",
      "Symbian OS                  11\n",
      "Solaris                     10\n",
      "BlackBerry OS                7\n",
      "Tizen                        4\n",
      "Kindle                       4\n",
      "Symbian^3 Anna               3\n",
      "BSD                          2\n",
      "Symbian^3                    2\n",
      "WebTV                        1\n",
      "webOS                        1\n",
      "Linux Mint                   1\n",
      "BlackBerry Tablet OS         1\n",
      "Maemo                        1\n",
      "Kubuntu                      1\n",
      "Name: count, dtype: int64\n",
      "category_counts_browser browser\n",
      "Chrome Mobile                    225912\n",
      "Chrome                           178600\n",
      "Mobile Safari                    120170\n",
      "Mobile Safari UI/WKWebView       102746\n",
      "Edge                              88929\n",
      "                                  ...  \n",
      "Scrapy                                1\n",
      "WIRE                                  1\n",
      "Goodnotes                             1\n",
      "SearchOnGoogleActionExtension         1\n",
      "ShareExtension                        1\n",
      "Name: count, Length: 153, dtype: int64\n"
     ]
    }
   ],
   "source": [
    "data=df_os_browser\n",
    "category_counts_device_type = data['device_type'].value_counts()\n",
    "print(\"category_counts_device_type\", category_counts_device_type)\n",
    "\n",
    "category_counts_os = data['os'].value_counts()\n",
    "print(\"category_counts_os\", category_counts_os)\n",
    "#os to keep\n",
    "# Android, iOS, Windows, Mac OS X, Linux, Ubuntu, Chrome OS\n",
    "category_counts_browser = data['browser'].value_counts()\n",
    "print(\"category_counts_browser\", category_counts_browser)\n"
   ]
  },
  {
   "cell_type": "code",
   "execution_count": 19,
   "metadata": {},
   "outputs": [
    {
     "name": "stdout",
     "output_type": "stream",
     "text": [
      "category_counts_browser:\n",
      " browser\n",
      "Chrome Mobile                    225912\n",
      "Chrome                           178600\n",
      "Mobile Safari                    120170\n",
      "Mobile Safari UI/WKWebView       102746\n",
      "Edge                              88929\n",
      "Firefox                           56841\n",
      "Samsung Internet                  35713\n",
      "Other                             34891\n",
      "Safari                            26809\n",
      "Google                            19876\n",
      "Chrome Mobile iOS                 14253\n",
      "Opera                             13624\n",
      "FacebookBot                        9397\n",
      "Facebook                           7887\n",
      "ImagesiftBot                       5805\n",
      "YandexBot                          3602\n",
      "Chrome Mobile WebView              3405\n",
      "Firefox Mobile                     2864\n",
      "SemrushBot                         2642\n",
      "Chromium                           2347\n",
      "crawler                            2294\n",
      "Edge Mobile                        2003\n",
      "Applebot                           1967\n",
      "Opera Mobile                       1659\n",
      "WhatsApp                           1595\n",
      "Firefox Beta                       1511\n",
      "Twitterbot                         1168\n",
      "Firefox Alpha                       947\n",
      "Pinterest                           859\n",
      "Amazon Silk                         789\n",
      "Firefox iOS                         740\n",
      "IE                                  676\n",
      "Apple Mail                          546\n",
      "MiuiBrowser                         533\n",
      "WordPress                           445\n",
      "Instagram                           430\n",
      "DuckDuckGo Mobile                   397\n",
      "Yandex Browser                      356\n",
      "Phantom                             289\n",
      "Yeti                                228\n",
      "Python Requests                     201\n",
      "Telegram                            181\n",
      "ChatGLM-Spider                      168\n",
      "MJ12bot                             157\n",
      "Screaming Frog SEO Spider           154\n",
      "magpie-crawler                      146\n",
      "AppleNewsBot                        144\n",
      "UC Browser                          135\n",
      "TelegramBot                         120\n",
      "axios                               113\n",
      "YisouSpider                         112\n",
      "QQ Browser Mobile                    89\n",
      "Vivaldi                              62\n",
      "Android                              59\n",
      "Pale Moon                            54\n",
      "Bytespider                           46\n",
      "YandexRenderResourcesBot             43\n",
      "WebKit Nightly                       37\n",
      "Crosswalk                            34\n",
      "HeadlessChrome                       34\n",
      "Yahoo! Slurp                         28\n",
      "Whale                                27\n",
      "Links                                25\n",
      "Iron                                 24\n",
      "Apache-HttpClient                    23\n",
      "Twitter                              23\n",
      "SeaMonkey                            22\n",
      "QQ Browser                           22\n",
      "Timpibot                             18\n",
      "Go-http-client                       17\n",
      "Sogou Explorer                       17\n",
      "Datanyze                             15\n",
      "PerplexityBot                        15\n",
      "Snapchat                             14\n",
      "okhttp                               13\n",
      "yacybot                              13\n",
      "NetFront                             12\n",
      "Mediatoolkitbot                      12\n",
      "Chrome Frame                         11\n",
      "Zune                                 11\n",
      "Konqueror                            11\n",
      "IE Mobile                            11\n",
      "Maxthon                              11\n",
      "LinkedInBot                          11\n",
      "Opera Mini                           10\n",
      "LINE                                  8\n",
      "Client                                7\n",
      "QupZilla                              7\n",
      "Nokia Browser                         7\n",
      "Python aiohttp                        7\n",
      "Server Crawler                        6\n",
      "Arora                                 6\n",
      "Python-urllib                         5\n",
      "Electron                              5\n",
      "Waterfox                              5\n",
      "MSIECrawler                           4\n",
      "Wget                                  4\n",
      "BlackBerry WebKit                     4\n",
      "SeznamBot                             4\n",
      "Epiphany                              4\n",
      "Basilisk                              4\n",
      "Nokia Services (WAP) Browser          3\n",
      "Iceweasel                             3\n",
      "ELinks                                3\n",
      "Kindle                                3\n",
      "Sogou web spider                      3\n",
      "Aloha                                 3\n",
      "Magus Bot                             3\n",
      "Baiduspider                           3\n",
      "Puffin                                3\n",
      "Swiftfox                              2\n",
      "Jasmine                               2\n",
      "Extension                             2\n",
      "by fynd.bot                           2\n",
      "Word                                  2\n",
      "Midori                                2\n",
      "OmniWeb                               2\n",
      "SkyworkSpider                         2\n",
      "M bot                                 2\n",
      "iTunes                                2\n",
      "Iceape                                2\n",
      "Seznam prohlížeč                      2\n",
      "Camino                                2\n",
      ") Bot                                 2\n",
      "Firefox (Minefield)                   2\n",
      "Avant                                 2\n",
      "Netscape                              2\n",
      "UP.Browser                            2\n",
      "Outlook                               2\n",
      "Galeon                                2\n",
      "Dragon                                2\n",
      "MetaMask                              1\n",
      "YandexImages                          1\n",
      "everyfeed-spider                      1\n",
      "Trend%20Micro%20Antivirus             1\n",
      "CodaBot                               1\n",
      "Nokia OSS Browser                     1\n",
      "ReactorNetty                          1\n",
      "BOLT                                  1\n",
      "BlackBerry                            1\n",
      "MixrankBot                            1\n",
      "webOS Browser                         1\n",
      "Nicegram                              1\n",
      "Facebot                               1\n",
      "YandexSearch                          1\n",
      "Gulper Web Bot                        1\n",
      "Flipboard                             1\n",
      "SEMC-Browser                          1\n",
      "Scrapy                                1\n",
      "WIRE                                  1\n",
      "Goodnotes                             1\n",
      "SearchOnGoogleActionExtension         1\n",
      "ShareExtension                        1\n"
     ]
    }
   ],
   "source": [
    "category_counts_browser = data['browser'].value_counts()\n",
    "print(\"category_counts_browser:\\n\", category_counts_browser.to_string())\n",
    "# Chrome Mobile, Chrome, Mobile Safari, Mobile Safari, Edge , Firefox, Samsung Internet, Safari, Google, Chrome Mobile, Opera, FacebookBot, Facebook, ImagesiftBot"
   ]
  },
  {
   "cell_type": "code",
   "execution_count": 20,
   "metadata": {},
   "outputs": [
    {
     "name": "stdout",
     "output_type": "stream",
     "text": [
      "            CLNT_RMT_IP  AMS_trans_rsn_cd             CLICK_TS  status  \\\n",
      "0       194.182.199.141                 0  2024-10-23 02:59:14       1   \n",
      "1         37.163.216.86                 0  2024-10-23 02:58:23       1   \n",
      "2        93.224.234.210                 0  2024-10-23 02:57:50       1   \n",
      "3        109.157.109.33                 0  2024-10-23 02:57:26       1   \n",
      "4        203.122.13.189                 0  2024-10-23 02:57:20       1   \n",
      "...                 ...               ...                  ...     ...   \n",
      "978423     88.58.91.125                 0  2024-10-23 00:00:21       1   \n",
      "978424    91.205.43.131                 0  2024-10-23 00:00:33       1   \n",
      "978425     99.45.63.130                 0  2024-10-23 00:01:50       1   \n",
      "978426    92.40.177.191                 0  2024-10-23 00:01:17       1   \n",
      "978427   90.219.255.178                 0  2024-10-23 00:01:46       1   \n",
      "\n",
      "                           browser       os device_type  \n",
      "0                    Mobile Safari      iOS      mobile  \n",
      "1                    Chrome Mobile  Android      mobile  \n",
      "2                            Opera  Windows     desktop  \n",
      "3                    Chrome Mobile      iOS      mobile  \n",
      "4                           Chrome  Windows     desktop  \n",
      "...                            ...      ...         ...  \n",
      "978423                      Chrome  Windows     desktop  \n",
      "978424  Mobile Safari UI/WKWebView      iOS      mobile  \n",
      "978425               Chrome Mobile  Android      mobile  \n",
      "978426                       Other  Android      mobile  \n",
      "978427                      Google      iOS      tablet  \n",
      "\n",
      "[978428 rows x 7 columns]\n"
     ]
    }
   ],
   "source": [
    "def categorize_browser(browser_column):\n",
    "    # Define the browsers to keep based on the 10,000 row threshold\n",
    "    popular_browsers = ['Chrome Mobile', 'Chrome', 'Mobile Safari', 'Mobile Safari UI/WKWebView', 'Edge', 'Firefox', 'Samsung Internet', 'Safari', 'Google', 'Chrome Mobile', 'Opera', 'FacebookBot', 'Facebook', 'ImagesiftBot']\n",
    "\n",
    "    # Apply the categorization\n",
    "    browser_column = browser_column.apply(lambda x: x if x in popular_browsers else 'Other')\n",
    "    return browser_column\n",
    "\n",
    "# Function to categorize OS based on the 1% rule and keeping till Ubuntu\n",
    "def categorize_os(os_column):\n",
    "    # Define the OSes to keep based on the row threshold (up to Ubuntu)\n",
    "    popular_os = ['Android', 'Other', 'iOS', 'Windows', 'Mac OS X', 'Linux', 'Ubuntu', 'Chrome OS']\n",
    "\n",
    "    # Apply the categorization\n",
    "    os_column = os_column.apply(lambda x: x if x in popular_os else 'Other')\n",
    "    return os_column\n",
    "\n",
    "# Apply categorization functions to the DataFrame\n",
    "data['browser'] = categorize_browser(data['browser'])\n",
    "data['os'] = categorize_os(data['os'])\n",
    "\n",
    "# Display the transformed DataFrame\n",
    "print(data)\n"
   ]
  },
  {
   "cell_type": "code",
   "execution_count": 21,
   "metadata": {},
   "outputs": [],
   "source": [
    "import re\n",
    "\n",
    "# Function to check if the IP address is valid\n",
    "def is_valid_ipv4(ip):\n",
    "    if pd.isna(ip):  # Check for None or NaN\n",
    "        return False\n",
    "    pattern = r'^(25[0-5]|2[0-4][0-9]|[01]?[0-9][0-9]?)\\.(25[0-5]|2[0-4][0-9]|[01]?[0-9][0-9]?)\\.(25[0-5]|2[0-4][0-9]|[01]?[0-9][0-9]?)\\.(25[0-5]|2[0-4][0-9]|[01]?[0-9][0-9]?)$'\n",
    "    return re.match(pattern, ip) is not None\n",
    "\n",
    "# Apply the function and create a mask for valid IP addresses\n",
    "valid_ips_mask = data['CLNT_RMT_IP'].apply(is_valid_ipv4)\n",
    "\n",
    "# Drop rows with invalid IP addresses\n",
    "data = data[valid_ips_mask]"
   ]
  },
  {
   "cell_type": "code",
   "execution_count": 22,
   "metadata": {},
   "outputs": [
    {
     "name": "stderr",
     "output_type": "stream",
     "text": [
      "C:\\Users\\Rajneesh\\AppData\\Local\\Temp\\ipykernel_8204\\1342105451.py:10: SettingWithCopyWarning: \n",
      "A value is trying to be set on a copy of a slice from a DataFrame.\n",
      "Try using .loc[row_indexer,col_indexer] = value instead\n",
      "\n",
      "See the caveats in the documentation: https://pandas.pydata.org/pandas-docs/stable/user_guide/indexing.html#returning-a-view-versus-a-copy\n",
      "  data['ip_as_int'] = data['CLNT_RMT_IP'].apply(ipv4_to_int)\n",
      "C:\\Users\\Rajneesh\\AppData\\Local\\Temp\\ipykernel_8204\\1342105451.py:11: SettingWithCopyWarning: \n",
      "A value is trying to be set on a copy of a slice from a DataFrame.\n",
      "Try using .loc[row_indexer,col_indexer] = value instead\n",
      "\n",
      "See the caveats in the documentation: https://pandas.pydata.org/pandas-docs/stable/user_guide/indexing.html#returning-a-view-versus-a-copy\n",
      "  data['CLICK_TS'] = pd.to_datetime(data['CLICK_TS'])\n",
      "C:\\Users\\Rajneesh\\AppData\\Local\\Temp\\ipykernel_8204\\1342105451.py:15: SettingWithCopyWarning: \n",
      "A value is trying to be set on a copy of a slice from a DataFrame.\n",
      "Try using .loc[row_indexer,col_indexer] = value instead\n",
      "\n",
      "See the caveats in the documentation: https://pandas.pydata.org/pandas-docs/stable/user_guide/indexing.html#returning-a-view-versus-a-copy\n",
      "  data['year'] = data['CLICK_TS'].dt.year\n",
      "C:\\Users\\Rajneesh\\AppData\\Local\\Temp\\ipykernel_8204\\1342105451.py:16: SettingWithCopyWarning: \n",
      "A value is trying to be set on a copy of a slice from a DataFrame.\n",
      "Try using .loc[row_indexer,col_indexer] = value instead\n",
      "\n",
      "See the caveats in the documentation: https://pandas.pydata.org/pandas-docs/stable/user_guide/indexing.html#returning-a-view-versus-a-copy\n",
      "  data['month'] = data['CLICK_TS'].dt.month\n",
      "C:\\Users\\Rajneesh\\AppData\\Local\\Temp\\ipykernel_8204\\1342105451.py:17: SettingWithCopyWarning: \n",
      "A value is trying to be set on a copy of a slice from a DataFrame.\n",
      "Try using .loc[row_indexer,col_indexer] = value instead\n",
      "\n",
      "See the caveats in the documentation: https://pandas.pydata.org/pandas-docs/stable/user_guide/indexing.html#returning-a-view-versus-a-copy\n",
      "  data['day'] = data['CLICK_TS'].dt.day\n",
      "C:\\Users\\Rajneesh\\AppData\\Local\\Temp\\ipykernel_8204\\1342105451.py:18: SettingWithCopyWarning: \n",
      "A value is trying to be set on a copy of a slice from a DataFrame.\n",
      "Try using .loc[row_indexer,col_indexer] = value instead\n",
      "\n",
      "See the caveats in the documentation: https://pandas.pydata.org/pandas-docs/stable/user_guide/indexing.html#returning-a-view-versus-a-copy\n",
      "  data['hour'] = data['CLICK_TS'].dt.hour\n",
      "C:\\Users\\Rajneesh\\AppData\\Local\\Temp\\ipykernel_8204\\1342105451.py:19: SettingWithCopyWarning: \n",
      "A value is trying to be set on a copy of a slice from a DataFrame.\n",
      "Try using .loc[row_indexer,col_indexer] = value instead\n",
      "\n",
      "See the caveats in the documentation: https://pandas.pydata.org/pandas-docs/stable/user_guide/indexing.html#returning-a-view-versus-a-copy\n",
      "  data['minute'] = data['CLICK_TS'].dt.minute\n",
      "C:\\Users\\Rajneesh\\AppData\\Local\\Temp\\ipykernel_8204\\1342105451.py:20: SettingWithCopyWarning: \n",
      "A value is trying to be set on a copy of a slice from a DataFrame.\n",
      "Try using .loc[row_indexer,col_indexer] = value instead\n",
      "\n",
      "See the caveats in the documentation: https://pandas.pydata.org/pandas-docs/stable/user_guide/indexing.html#returning-a-view-versus-a-copy\n",
      "  data['second'] = data['CLICK_TS'].dt.second\n",
      "C:\\Users\\Rajneesh\\AppData\\Local\\Temp\\ipykernel_8204\\1342105451.py:24: SettingWithCopyWarning: \n",
      "A value is trying to be set on a copy of a slice from a DataFrame\n",
      "\n",
      "See the caveats in the documentation: https://pandas.pydata.org/pandas-docs/stable/user_guide/indexing.html#returning-a-view-versus-a-copy\n",
      "  data.drop(['CLNT_RMT_IP', 'CLICK_TS'], axis=1, inplace=True)\n"
     ]
    },
    {
     "name": "stdout",
     "output_type": "stream",
     "text": [
      "        status   ip_as_int  year  month  day  hour  minute  second  \\\n",
      "0            1  3266758541  2024     10   23     2      59      14   \n",
      "1            1   631494742  2024     10   23     2      58      23   \n",
      "2            1  1575021266  2024     10   23     2      57      50   \n",
      "3            1  1839033633  2024     10   23     2      57      26   \n",
      "4            1  3413773757  2024     10   23     2      57      20   \n",
      "...        ...         ...   ...    ...  ...   ...     ...     ...   \n",
      "978423       1  1480219517  2024     10   23     0       0      21   \n",
      "978424       1  1540172675  2024     10   23     0       0      33   \n",
      "978425       1  1663909762  2024     10   23     0       1      50   \n",
      "978426       1  1546170815  2024     10   23     0       1      17   \n",
      "978427       1  1524367282  2024     10   23     0       1      46   \n",
      "\n",
      "        browser_Chrome  browser_Chrome Mobile  ...  device_type_mobile  \\\n",
      "0                False                  False  ...                True   \n",
      "1                False                   True  ...                True   \n",
      "2                False                  False  ...               False   \n",
      "3                False                   True  ...                True   \n",
      "4                 True                  False  ...               False   \n",
      "...                ...                    ...  ...                 ...   \n",
      "978423            True                  False  ...               False   \n",
      "978424           False                  False  ...                True   \n",
      "978425           False                   True  ...                True   \n",
      "978426           False                  False  ...                True   \n",
      "978427           False                  False  ...               False   \n",
      "\n",
      "        device_type_other  device_type_tablet  AMS_trans_rsn_cd_0  \\\n",
      "0                   False               False                True   \n",
      "1                   False               False                True   \n",
      "2                   False               False                True   \n",
      "3                   False               False                True   \n",
      "4                   False               False                True   \n",
      "...                   ...                 ...                 ...   \n",
      "978423              False               False                True   \n",
      "978424              False               False                True   \n",
      "978425              False               False                True   \n",
      "978426              False               False                True   \n",
      "978427              False                True                True   \n",
      "\n",
      "        AMS_trans_rsn_cd_2  AMS_trans_rsn_cd_4  AMS_trans_rsn_cd_5  \\\n",
      "0                    False               False               False   \n",
      "1                    False               False               False   \n",
      "2                    False               False               False   \n",
      "3                    False               False               False   \n",
      "4                    False               False               False   \n",
      "...                    ...                 ...                 ...   \n",
      "978423               False               False               False   \n",
      "978424               False               False               False   \n",
      "978425               False               False               False   \n",
      "978426               False               False               False   \n",
      "978427               False               False               False   \n",
      "\n",
      "        AMS_trans_rsn_cd_6  AMS_trans_rsn_cd_7  AMS_trans_rsn_cd_8  \n",
      "0                    False               False               False  \n",
      "1                    False               False               False  \n",
      "2                    False               False               False  \n",
      "3                    False               False               False  \n",
      "4                    False               False               False  \n",
      "...                    ...                 ...                 ...  \n",
      "978423               False               False               False  \n",
      "978424               False               False               False  \n",
      "978425               False               False               False  \n",
      "978426               False               False               False  \n",
      "978427               False               False               False  \n",
      "\n",
      "[977793 rows x 42 columns]\n"
     ]
    }
   ],
   "source": [
    "import socket\n",
    "import struct\n",
    "from sklearn.preprocessing import OneHotEncoder\n",
    "\n",
    "\n",
    "# 1. Convert IP to integer\n",
    "def ipv4_to_int(ip):\n",
    "    return struct.unpack(\"!I\", socket.inet_aton(ip))[0]\n",
    "\n",
    "data['ip_as_int'] = data['CLNT_RMT_IP'].apply(ipv4_to_int)\n",
    "data['CLICK_TS'] = pd.to_datetime(data['CLICK_TS'])\n",
    "\n",
    "\n",
    "# 3. Extract features from datetime\n",
    "data['year'] = data['CLICK_TS'].dt.year\n",
    "data['month'] = data['CLICK_TS'].dt.month\n",
    "data['day'] = data['CLICK_TS'].dt.day\n",
    "data['hour'] = data['CLICK_TS'].dt.hour\n",
    "data['minute'] = data['CLICK_TS'].dt.minute\n",
    "data['second'] = data['CLICK_TS'].dt.second\n",
    "# df['day_of_week'] = df['datetime'].dt.dayofweek  # Monday=0, Sunday=6\n",
    "\n",
    "# 4. Drop original date and time columns\n",
    "data.drop(['CLNT_RMT_IP', 'CLICK_TS'], axis=1, inplace=True)\n",
    "\n",
    "# 5. Encode categorical features\n",
    "categorical_features = ['browser', 'os', 'device_type', 'AMS_trans_rsn_cd']\n",
    "df_encoded = pd.get_dummies(data, columns=categorical_features)\n",
    "\n",
    "# Display the processed DataFrame\n",
    "print(df_encoded)"
   ]
  },
  {
   "cell_type": "code",
   "execution_count": 23,
   "metadata": {},
   "outputs": [
    {
     "data": {
      "image/png": "[encoded data removed]",
      "text/plain": [
       "<Figure size 1000x600 with 1 Axes>"
      ]
     },
     "metadata": {},
     "output_type": "display_data"
    }
   ],
   "source": [
    "import seaborn as sns\n",
    "import matplotlib.pyplot as plt\n",
    "\n",
    "crosstab = pd.crosstab(data['os'], data['status'])\n",
    "\n",
    "# Plot stacked bar plot\n",
    "crosstab.plot(kind='bar', stacked=True, figsize=(10,6))\n",
    "\n",
    "plt.title('Stacked Bar Plot of staus and os')\n",
    "plt.xlabel('os')\n",
    "plt.ylabel('Count')\n",
    "plt.show()\n"
   ]
  },
  {
   "cell_type": "code",
   "execution_count": 25,
   "metadata": {},
   "outputs": [
    {
     "name": "stdout",
     "output_type": "stream",
     "text": [
      "Chi-Square Statistic: 150668.56713210949\n",
      "P-value: 0.0\n"
     ]
    }
   ],
   "source": [
    "from scipy.stats import chi2_contingency\n",
    "# Chi-Square Test of Independence between categorical_feature1 and target\n",
    "contingency_table = pd.crosstab(data['device_type'], data['status'])\n",
    "chi2, p_value, _, _ = chi2_contingency(contingency_table)\n",
    "\n",
    "print(f\"Chi-Square Statistic: {chi2}\")\n",
    "print(f\"P-value: {p_value}\")\n"
   ]
  },
  {
   "cell_type": "code",
   "execution_count": 29,
   "metadata": {},
   "outputs": [],
   "source": [
    "data = df_encoded"
   ]
  },
  {
   "cell_type": "code",
   "execution_count": 30,
   "metadata": {},
   "outputs": [
    {
     "data": {
      "text/plain": [
       "(977793, 42)"
      ]
     },
     "execution_count": 30,
     "metadata": {},
     "output_type": "execute_result"
    }
   ],
   "source": [
    "data.shape"
   ]
  },
  {
   "cell_type": "code",
   "execution_count": 34,
   "metadata": {},
   "outputs": [
    {
     "data": {
      "text/plain": [
       "42"
      ]
     },
     "execution_count": 34,
     "metadata": {},
     "output_type": "execute_result"
    }
   ],
   "source": [
    "(len(data.columns))"
   ]
  },
  {
   "cell_type": "code",
   "execution_count": 32,
   "metadata": {},
   "outputs": [
    {
     "name": "stdout",
     "output_type": "stream",
     "text": [
      "Chi-Square Statistic: 20975.907733508793\n",
      "P-value: 0.0\n"
     ]
    }
   ],
   "source": [
    "from scipy.stats import chi2_contingency\n",
    "# Chi-Square Test of Independence between categorical_feature1 and target\n",
    "contingency_table = pd.crosstab(data['browser_Chrome'], data['status'])\n",
    "chi2, p_value, _, _ = chi2_contingency(contingency_table)\n",
    "\n",
    "print(f\"Chi-Square Statistic: {chi2}\")\n",
    "print(f\"P-value: {p_value}\")"
   ]
  },
  {
   "cell_type": "code",
   "execution_count": 33,
   "metadata": {},
   "outputs": [
    {
     "name": "stdout",
     "output_type": "stream",
     "text": [
      "browser_Chrome\n",
      "Chi-Square Statistic: 20975.907733508793\n",
      "P-value: 0.0\n",
      "browser_Chrome Mobile\n",
      "Chi-Square Statistic: 10070.124237818623\n",
      "P-value: 0.0\n",
      "browser_Edge\n",
      "Chi-Square Statistic: 15037.70882325872\n",
      "P-value: 0.0\n",
      "browser_Facebook\n",
      "Chi-Square Statistic: 1576.653698370577\n",
      "P-value: 0.0\n",
      "browser_FacebookBot\n",
      "Chi-Square Statistic: 44300.12887295391\n",
      "P-value: 0.0\n",
      "browser_Firefox\n",
      "Chi-Square Statistic: 1715.6773826444955\n",
      "P-value: 0.0\n",
      "browser_Google\n",
      "Chi-Square Statistic: 4176.671593471635\n",
      "P-value: 0.0\n",
      "browser_ImagesiftBot\n",
      "Chi-Square Statistic: 26650.678095373944\n",
      "P-value: 0.0\n",
      "browser_Mobile Safari\n",
      "Chi-Square Statistic: 17382.87082257656\n",
      "P-value: 0.0\n",
      "browser_Mobile Safari UI/WKWebView\n",
      "Chi-Square Statistic: 23435.221429604902\n",
      "P-value: 0.0\n",
      "browser_Opera\n",
      "Chi-Square Statistic: 1962.3756774604635\n",
      "P-value: 0.0\n",
      "browser_Other\n",
      "Chi-Square Statistic: 5534.69148173785\n",
      "P-value: 0.0\n",
      "browser_Safari\n",
      "Chi-Square Statistic: 515.3172824242913\n",
      "P-value: 4.419141353418641e-114\n",
      "browser_Samsung Internet\n",
      "Chi-Square Statistic: 6496.6012103405465\n",
      "P-value: 0.0\n",
      "os_Android\n",
      "Chi-Square Statistic: 2327.637660114607\n",
      "P-value: 0.0\n",
      "os_Chrome OS\n",
      "Chi-Square Statistic: 60.58149395980375\n",
      "P-value: 7.0594563900649315e-15\n",
      "os_Linux\n",
      "Chi-Square Statistic: 11117.21718761347\n",
      "P-value: 0.0\n",
      "os_Mac OS X\n",
      "Chi-Square Statistic: 15987.323605114289\n",
      "P-value: 0.0\n",
      "os_Other\n",
      "Chi-Square Statistic: 142202.77316451215\n",
      "P-value: 0.0\n",
      "os_Ubuntu\n",
      "Chi-Square Statistic: 11275.984751333912\n",
      "P-value: 0.0\n",
      "os_Windows\n",
      "Chi-Square Statistic: 1110.1148303761547\n",
      "P-value: 2.0916702278910825e-243\n",
      "os_iOS\n",
      "Chi-Square Statistic: 33004.48438829317\n",
      "P-value: 0.0\n",
      "device_type_bot\n",
      "Chi-Square Statistic: 129066.59707953148\n",
      "P-value: 0.0\n",
      "device_type_desktop\n",
      "Chi-Square Statistic: 6760.0187986190485\n",
      "P-value: 0.0\n",
      "device_type_mobile\n",
      "Chi-Square Statistic: 38086.890868263254\n",
      "P-value: 0.0\n",
      "device_type_other\n",
      "Chi-Square Statistic: 2057.0801532653186\n",
      "P-value: 0.0\n",
      "device_type_tablet\n",
      "Chi-Square Statistic: 2733.615777049435\n",
      "P-value: 0.0\n",
      "AMS_trans_rsn_cd_0\n",
      "Chi-Square Statistic: 977786.1162788513\n",
      "P-value: 0.0\n",
      "AMS_trans_rsn_cd_2\n",
      "Chi-Square Statistic: 2582.744903106525\n",
      "P-value: 0.0\n",
      "AMS_trans_rsn_cd_4\n",
      "Chi-Square Statistic: 45990.775578120236\n",
      "P-value: 0.0\n",
      "AMS_trans_rsn_cd_5\n",
      "Chi-Square Statistic: 13.439032210495686\n",
      "P-value: 0.0002464427216065217\n",
      "AMS_trans_rsn_cd_6\n",
      "Chi-Square Statistic: 494552.2585709097\n",
      "P-value: 0.0\n",
      "AMS_trans_rsn_cd_7\n",
      "Chi-Square Statistic: 275365.2467098586\n",
      "P-value: 0.0\n",
      "AMS_trans_rsn_cd_8\n",
      "Chi-Square Statistic: 51829.455075207385\n",
      "P-value: 0.0\n"
     ]
    }
   ],
   "source": [
    "cat_features = ['browser_Chrome', 'browser_Chrome Mobile', 'browser_Edge',\n",
    "       'browser_Facebook', 'browser_FacebookBot', 'browser_Firefox',\n",
    "       'browser_Google', 'browser_ImagesiftBot', 'browser_Mobile Safari',\n",
    "       'browser_Mobile Safari UI/WKWebView', 'browser_Opera', 'browser_Other',\n",
    "       'browser_Safari', 'browser_Samsung Internet', 'os_Android',\n",
    "       'os_Chrome OS', 'os_Linux', 'os_Mac OS X', 'os_Other', 'os_Ubuntu',\n",
    "       'os_Windows', 'os_iOS', 'device_type_bot', 'device_type_desktop',\n",
    "       'device_type_mobile', 'device_type_other', 'device_type_tablet',\n",
    "       'AMS_trans_rsn_cd_0', 'AMS_trans_rsn_cd_2', 'AMS_trans_rsn_cd_4',\n",
    "       'AMS_trans_rsn_cd_5', 'AMS_trans_rsn_cd_6', 'AMS_trans_rsn_cd_7',\n",
    "       'AMS_trans_rsn_cd_8']\n",
    "\n",
    "\n",
    "for cat in cat_features:\n",
    "    contingency_table = pd.crosstab(data[cat], data['status'])\n",
    "    chi2, p_value, _, _ = chi2_contingency(contingency_table)\n",
    "    print(cat)\n",
    "    print(f\"Chi-Square Statistic: {chi2}\")\n",
    "    print(f\"P-value: {p_value}\")"
   ]
  },
  {
   "cell_type": "code",
   "execution_count": 40,
   "metadata": {},
   "outputs": [],
   "source": [
    "from sklearn.model_selection import train_test_split, cross_val_score\n",
    "from sklearn.ensemble import RandomForestClassifier\n",
    "from sklearn.preprocessing import StandardScaler\n",
    "# Assuming df_encoded is already prepared with one-hot encoding for categorical features\n",
    "\n",
    "# Define features (X) and target variable (y)\n",
    "X = data.drop('status', axis=1)\n",
    "y = data['status']\n"
   ]
  },
  {
   "cell_type": "code",
   "execution_count": null,
   "metadata": {},
   "outputs": [],
   "source": [
    "from sklearn.metrics import make_scorer, accuracy_score, precision_score, recall_score, f1_score\n",
    "import numpy as np\n",
    "import pandas as pd\n",
    "import matplotlib.pyplot as plt\n",
    "from sklearn.model_selection import learning_curve\n",
    "from sklearn.ensemble import RandomForestClassifier\n",
    "\n",
    "# Define the metrics you want to evaluate\n",
    "metrics = ['accuracy', 'precision', 'recall', 'f1']\n",
    "\n",
    "# Dictionary to store the results for each metric\n",
    "train_scores_dict = {}\n",
    "test_scores_dict = {}\n",
    "model = RandomForestClassifier(class_weight='balanced', n_estimators=100, random_state=42, n_jobs=-1)\n",
    "\n",
    "for metric in metrics:\n",
    "    # Generate the learning curve for each metric\n",
    "    train_sizes, train_scores, test_scores = learning_curve(\n",
    "        model,\n",
    "        X,\n",
    "        y,\n",
    "        cv=5,\n",
    "        n_jobs=-1,\n",
    "        train_sizes=np.linspace(0.1, 1.0, 10),\n",
    "        scoring=metric\n",
    "    )\n",
    "\n",
    "    # Calculate mean and standard deviation for train and test scores\n",
    "    train_scores_dict[metric] = (train_scores.mean(axis=1), train_scores.std(axis=1))\n",
    "    test_scores_dict[metric] = (test_scores.mean(axis=1), test_scores.std(axis=1))\n",
    "\n",
    "# Plotting learning curves for each metric\n",
    "plt.figure(figsize=(12, 10))\n",
    "\n",
    "# Accuracy plot\n",
    "plt.subplot(2, 2, 1)\n",
    "train_mean, train_std = train_scores_dict['accuracy']\n",
    "test_mean, test_std = test_scores_dict['accuracy']\n",
    "plt.plot(train_sizes, train_mean, label='Training Accuracy', color='blue')\n",
    "plt.plot(train_sizes, test_mean, label='Validation Accuracy', color='orange')\n",
    "plt.fill_between(train_sizes, train_mean - train_std, train_mean + train_std, color='blue', alpha=0.1)\n",
    "plt.fill_between(train_sizes, test_mean - test_std, test_mean + test_std, color='orange', alpha=0.1)\n",
    "plt.title('Learning Curve - Accuracy')\n",
    "plt.xlabel('Training Size')\n",
    "plt.ylabel('Accuracy')\n",
    "plt.legend(loc='best')\n",
    "plt.grid()\n",
    "\n",
    "# Precision plot\n",
    "plt.subplot(2, 2, 2)\n",
    "train_mean, train_std = train_scores_dict['precision']\n",
    "test_mean, test_std = test_scores_dict['precision']\n",
    "plt.plot(train_sizes, train_mean, label='Training Precision', color='blue')\n",
    "plt.plot(train_sizes, test_mean, label='Validation Precision', color='orange')\n",
    "plt.fill_between(train_sizes, train_mean - train_std, train_mean + train_std, color='blue', alpha=0.1)\n",
    "plt.fill_between(train_sizes, test_mean - test_std, test_mean + test_std, color='orange', alpha=0.1)\n",
    "plt.title('Learning Curve - Precision')\n",
    "plt.xlabel('Training Size')\n",
    "plt.ylabel('Precision')\n",
    "plt.legend(loc='best')\n",
    "plt.grid()\n",
    "\n",
    "# Recall plot\n",
    "plt.subplot(2, 2, 3)\n",
    "train_mean, train_std = train_scores_dict['recall']\n",
    "test_mean, test_std = test_scores_dict['recall']\n",
    "plt.plot(train_sizes, train_mean, label='Training Recall', color='blue')\n",
    "plt.plot(train_sizes, test_mean, label='Validation Recall', color='orange')\n",
    "plt.fill_between(train_sizes, train_mean - train_std, train_mean + train_std, color='blue', alpha=0.1)\n",
    "plt.fill_between(train_sizes, test_mean - test_std, test_mean + test_std, color='orange', alpha=0.1)\n",
    "plt.title('Learning Curve - Recall')\n",
    "plt.xlabel('Training Size')\n",
    "plt.ylabel('Recall')\n",
    "plt.legend(loc='best')\n",
    "plt.grid()\n",
    "\n",
    "# F1 Score plot\n",
    "plt.subplot(2, 2, 4)\n",
    "train_mean, train_std = train_scores_dict['f1']\n",
    "test_mean, test_std = test_scores_dict['f1']\n",
    "plt.plot(train_sizes, train_mean, label='Training F1 Score', color='blue')\n",
    "plt.plot(train_sizes, test_mean, label='Validation F1 Score', color='orange')\n",
    "plt.fill_between(train_sizes, train_mean - train_std, train_mean + train_std, color='blue', alpha=0.1)\n",
    "plt.fill_between(train_sizes, test_mean - test_std, test_mean + test_std, color='orange', alpha=0.1)\n",
    "plt.title('Learning Curve - F1 Score')\n",
    "plt.xlabel('Training Size')\n",
    "plt.ylabel('F1 Score')\n",
    "plt.legend(loc='best')\n",
    "plt.grid()\n",
    "\n",
    "plt.tight_layout()\n",
    "plt.show()\n"
   ]
  },
  {
   "cell_type": "code",
   "execution_count": 43,
   "metadata": {},
   "outputs": [],
   "source": [
    "data.to_csv('../data/processed/data_with_features.csv')"
   ]
  },
  {
   "cell_type": "code",
   "execution_count": 44,
   "metadata": {},
   "outputs": [
    {
     "data": {
      "image/png": "[encoded data removed]",
      "text/plain": [
       "<Figure size 1200x1000 with 4 Axes>"
      ]
     },
     "metadata": {},
     "output_type": "display_data"
    }
   ],
   "source": [
    "from sklearn.metrics import make_scorer, accuracy_score, precision_score, recall_score, f1_score\n",
    "import numpy as np\n",
    "import pandas as pd\n",
    "import matplotlib.pyplot as plt\n",
    "from sklearn.model_selection import learning_curve\n",
    "from sklearn.ensemble import RandomForestClassifier\n",
    "\n",
    "# Define metrics to evaluate\n",
    "metrics = ['accuracy', 'precision', 'recall', 'f1']\n",
    "\n",
    "# Dictionary to store the results for each metric\n",
    "train_scores_dict = {}\n",
    "test_scores_dict = {}\n",
    "model = RandomForestClassifier(class_weight='balanced', n_estimators=50, random_state=42, n_jobs=-1)\n",
    "\n",
    "# Reduced number of train sizes and CV folds\n",
    "train_sizes = np.linspace(0.1, 1.0, 5)\n",
    "cv_folds = 3\n",
    "\n",
    "for metric in metrics:\n",
    "    # Generate the learning curve for each metric with fewer train sizes and folds\n",
    "    train_sizes, train_scores, test_scores = learning_curve(\n",
    "        model,\n",
    "        X,\n",
    "        y,\n",
    "        cv=cv_folds,\n",
    "        n_jobs=-1,\n",
    "        train_sizes=train_sizes,\n",
    "        scoring=metric\n",
    "    )\n",
    "\n",
    "    # Calculate mean and standard deviation for train and test scores\n",
    "    train_scores_dict[metric] = (train_scores.mean(axis=1), train_scores.std(axis=1))\n",
    "    test_scores_dict[metric] = (test_scores.mean(axis=1), test_scores.std(axis=1))\n",
    "\n",
    "# Plotting learning curves for each metric (no changes here)\n",
    "plt.figure(figsize=(12, 10))\n",
    "\n",
    "# Accuracy plot\n",
    "plt.subplot(2, 2, 1)\n",
    "train_mean, train_std = train_scores_dict['accuracy']\n",
    "test_mean, test_std = test_scores_dict['accuracy']\n",
    "plt.plot(train_sizes, train_mean, label='Training Accuracy', color='blue')\n",
    "plt.plot(train_sizes, test_mean, label='Validation Accuracy', color='orange')\n",
    "plt.fill_between(train_sizes, train_mean - train_std, train_mean + train_std, color='blue', alpha=0.1)\n",
    "plt.fill_between(train_sizes, test_mean - test_std, test_mean + test_std, color='orange', alpha=0.1)\n",
    "plt.title('Learning Curve - Accuracy')\n",
    "plt.xlabel('Training Size')\n",
    "plt.ylabel('Accuracy')\n",
    "plt.legend(loc='best')\n",
    "plt.grid()\n",
    "\n",
    "# Precision plot\n",
    "plt.subplot(2, 2, 2)\n",
    "train_mean, train_std = train_scores_dict['precision']\n",
    "test_mean, test_std = test_scores_dict['precision']\n",
    "plt.plot(train_sizes, train_mean, label='Training Precision', color='blue')\n",
    "plt.plot(train_sizes, test_mean, label='Validation Precision', color='orange')\n",
    "plt.fill_between(train_sizes, train_mean - train_std, train_mean + train_std, color='blue', alpha=0.1)\n",
    "plt.fill_between(train_sizes, test_mean - test_std, test_mean + test_std, color='orange', alpha=0.1)\n",
    "plt.title('Learning Curve - Precision')\n",
    "plt.xlabel('Training Size')\n",
    "plt.ylabel('Precision')\n",
    "plt.legend(loc='best')\n",
    "plt.grid()\n",
    "\n",
    "# Recall plot\n",
    "plt.subplot(2, 2, 3)\n",
    "train_mean, train_std = train_scores_dict['recall']\n",
    "test_mean, test_std = test_scores_dict['recall']\n",
    "plt.plot(train_sizes, train_mean, label='Training Recall', color='blue')\n",
    "plt.plot(train_sizes, test_mean, label='Validation Recall', color='orange')\n",
    "plt.fill_between(train_sizes, train_mean - train_std, train_mean + train_std, color='blue', alpha=0.1)\n",
    "plt.fill_between(train_sizes, test_mean - test_std, test_mean + test_std, color='orange', alpha=0.1)\n",
    "plt.title('Learning Curve - Recall')\n",
    "plt.xlabel('Training Size')\n",
    "plt.ylabel('Recall')\n",
    "plt.legend(loc='best')\n",
    "plt.grid()\n",
    "\n",
    "# F1 Score plot\n",
    "plt.subplot(2, 2, 4)\n",
    "train_mean, train_std = train_scores_dict['f1']\n",
    "test_mean, test_std = test_scores_dict['f1']\n",
    "plt.plot(train_sizes, train_mean, label='Training F1 Score', color='blue')\n",
    "plt.plot(train_sizes, test_mean, label='Validation F1 Score', color='orange')\n",
    "plt.fill_between(train_sizes, train_mean - train_std, train_mean + train_std, color='blue', alpha=0.1)\n",
    "plt.fill_between(train_sizes, test_mean - test_std, test_mean + test_std, color='orange', alpha=0.1)\n",
    "plt.title('Learning Curve - F1 Score')\n",
    "plt.xlabel('Training Size')\n",
    "plt.ylabel('F1 Score')\n",
    "plt.legend(loc='best')\n",
    "plt.grid()\n",
    "\n",
    "plt.tight_layout()\n",
    "plt.show()\n"
   ]
  },
  {
   "cell_type": "markdown",
   "metadata": {},
   "source": [
    "## VALIDATION ON NEW DATA"
   ]
  },
  {
   "cell_type": "code",
   "execution_count": 46,
   "metadata": {},
   "outputs": [
    {
     "name": "stdout",
     "output_type": "stream",
     "text": [
      "category_counts_AMS_TRANS_RSN_CD AMS_TRANS_RSN_CD\n",
      "6    955133\n",
      "7     25546\n",
      "0     19122\n",
      "8        94\n",
      "4        85\n",
      "2        20\n",
      "Name: count, dtype: int64\n"
     ]
    }
   ],
   "source": [
    "df = pd.read_csv('../data/raw/data_with_ts.csv')\n",
    "category_counts_AMS_TRANS_RSN_CD = df['AMS_TRANS_RSN_CD'].value_counts()\n",
    "print(\"category_counts_AMS_TRANS_RSN_CD\", category_counts_AMS_TRANS_RSN_CD)\n"
   ]
  },
  {
   "cell_type": "code",
   "execution_count": 48,
   "metadata": {},
   "outputs": [
    {
     "name": "stdout",
     "output_type": "stream",
     "text": [
      "         CLNT_RMT_IP                                         BRWSR_NAME  \\\n",
      "8      94.15.140.105  Mozilla/5.0 (Windows NT 10.0; Win64; x64) Appl...   \n",
      "13    90.212.167.240  Mozilla/5.0 (Macintosh; Intel Mac OS X 10_15_6...   \n",
      "141   51.146.174.248  ebayUserAgent/eBayIOS;6.180.0;iOS;17.5.1;Apple...   \n",
      "154   84.185.160.157  ebayUserAgent/eBayAndroid;6.180.1;Android;14;X...   \n",
      "230  176.116.129.194  Mozilla/5.0 (Windows NT 10.0; Win64; x64) Appl...   \n",
      "\n",
      "     AMS_TRANS_RSN_CD             CLICK_TS  \n",
      "8                   0  10/22/2024 10:23:59  \n",
      "13                  0  10/22/2024 10:22:29  \n",
      "141                 0  10/22/2024 10:21:35  \n",
      "154                 0  10/22/2024 10:21:23  \n",
      "230                 0  10/22/2024 10:20:47  \n"
     ]
    }
   ],
   "source": [
    "with open('../data/vpn_txt/vpn_ips.txt', 'r') as file:\n",
    "    ip_set = set(file.read().splitlines())\n",
    "\n",
    "# Filter the DataFrame to exclude rows with IPs in the ip_set\n",
    "filtered_df = df[~df['CLNT_RMT_IP'].isin(ip_set)]\n",
    "\n",
    "# Optionally, compute to bring the result into memory (if necessary)\n",
    "print(filtered_df.head())\n"
   ]
  },
  {
   "cell_type": "code",
   "execution_count": 49,
   "metadata": {},
   "outputs": [
    {
     "data": {
      "text/plain": [
       "(21377, 4)"
      ]
     },
     "execution_count": 49,
     "metadata": {},
     "output_type": "execute_result"
    }
   ],
   "source": [
    "filtered_df.shape"
   ]
  },
  {
   "cell_type": "code",
   "execution_count": 50,
   "metadata": {},
   "outputs": [],
   "source": [
    "filtered_df.to_csv('../data/processed/data_with_ts_vpn_removed.csv')"
   ]
  },
  {
   "cell_type": "code",
   "execution_count": 57,
   "metadata": {},
   "outputs": [
    {
     "data": {
      "text/plain": [
       "Index(['Unnamed: 0', 'CLNT_RMT_IP', 'BRWSR_NAME', 'AMS_TRANS_RSN_CD',\n",
       "       'CLICK_TS'],\n",
       "      dtype='object')"
      ]
     },
     "execution_count": 57,
     "metadata": {},
     "output_type": "execute_result"
    }
   ],
   "source": [
    "import pandas as pd\n",
    "data = pd.read_csv('../data/processed/data_with_ts_vpn_removed.csv')\n",
    "data.columns"
   ]
  },
  {
   "cell_type": "code",
   "execution_count": 58,
   "metadata": {},
   "outputs": [
    {
     "data": {
      "text/plain": [
       "Index(['CLNT_RMT_IP', 'BRWSR_NAME', 'AMS_TRANS_RSN_CD', 'CLICK_TS'], dtype='object')"
      ]
     },
     "execution_count": 58,
     "metadata": {},
     "output_type": "execute_result"
    }
   ],
   "source": [
    "data = data.drop('Unnamed: 0', axis=1)\n",
    "data.columns"
   ]
  },
  {
   "cell_type": "code",
   "execution_count": 59,
   "metadata": {},
   "outputs": [],
   "source": [
    "data = data.rename(columns={'AMS_TRANS_RSN_CD': 'AMS_trans_rsn_cd'})\n"
   ]
  },
  {
   "cell_type": "code",
   "execution_count": 60,
   "metadata": {},
   "outputs": [],
   "source": [
    "import numpy as np\n",
    "data['status'] = np.where(data['AMS_trans_rsn_cd'] == 0, 1, 0)\n"
   ]
  },
  {
   "cell_type": "code",
   "execution_count": 61,
   "metadata": {},
   "outputs": [
    {
     "name": "stdout",
     "output_type": "stream",
     "text": [
      "AMS_trans_rsn_cd\n",
      "0    18637\n",
      "6     2112\n",
      "7      477\n",
      "8       87\n",
      "4       47\n",
      "2       17\n",
      "Name: count, dtype: int64\n"
     ]
    }
   ],
   "source": [
    "category_counts = data['AMS_trans_rsn_cd'].value_counts()\n",
    "print(category_counts)"
   ]
  },
  {
   "cell_type": "code",
   "execution_count": 62,
   "metadata": {},
   "outputs": [
    {
     "data": {
      "image/png": "[encoded data removed]",
      "text/plain": [
       "<Figure size 800x500 with 1 Axes>"
      ]
     },
     "metadata": {},
     "output_type": "display_data"
    }
   ],
   "source": [
    "import seaborn as sns\n",
    "import matplotlib.pyplot as plt\n",
    "category_counts = data['status'].value_counts()\n",
    "plt.figure(figsize=(8, 5))\n",
    "category_counts.plot(kind='bar', color='skyblue')\n",
    "plt.title('Bar Plot of Categorical Variable')\n",
    "plt.xlabel('Categories')\n",
    "plt.ylabel('Counts')\n",
    "plt.xticks(rotation=0)\n",
    "plt.show()"
   ]
  },
  {
   "cell_type": "code",
   "execution_count": 63,
   "metadata": {},
   "outputs": [
    {
     "data": {
      "application/vnd.jupyter.widget-view+json": {
       "model_id": "5ef37982fed34c0ead141bdc449f1a4a",
       "version_major": 2,
       "version_minor": 0
      },
      "text/plain": [
       "Pandas Apply:   0%|          | 0/21377 [00:00<?, ?it/s]"
      ]
     },
     "metadata": {},
     "output_type": "display_data"
    }
   ],
   "source": [
    "from user_agents import parse\n",
    "import pandas as pd\n",
    "import swifter  # for parallel processing with Pandas (install with `pip install swifter`)\n",
    "\n",
    "# Dictionary to cache parsed user-agent strings and reduce redundant parsing\n",
    "user_agent_cache = {}\n",
    "\n",
    "def extract_user_agent_features_optimized(ua_string):\n",
    "    # Check if this user-agent string has already been parsed\n",
    "    if ua_string in user_agent_cache:\n",
    "        return user_agent_cache[ua_string]\n",
    "    \n",
    "    # Parse the user agent string and store parsed results in a variable\n",
    "    user_agent = parse(ua_string)\n",
    "    \n",
    "    # Extract required features\n",
    "    result = {\n",
    "        'browser': user_agent.browser.family,\n",
    "        # 'browser_version': user_agent.browser.version_string,\n",
    "        'os': user_agent.os.family,\n",
    "        # 'os_version': user_agent.os.version_string,\n",
    "        'device_type': (\n",
    "    'mobile' if user_agent.is_mobile else\n",
    "    'desktop' if user_agent.is_pc else\n",
    "    'tablet' if user_agent.is_tablet else\n",
    "    'bot' if user_agent.is_bot else 'other'\n",
    "        )\n",
    "    }\n",
    "    \n",
    "    # Store result in the cache\n",
    "    user_agent_cache[ua_string] = result\n",
    "    \n",
    "    return result\n",
    "\n",
    "# Apply optimized function to the user-agent column with parallel processing using swifter\n",
    "df_user_agent_features = data['BRWSR_NAME'].swifter.apply(extract_user_agent_features_optimized).apply(pd.Series)"
   ]
  },
  {
   "cell_type": "code",
   "execution_count": 64,
   "metadata": {},
   "outputs": [
    {
     "name": "stdout",
     "output_type": "stream",
     "text": [
      "(21377, 5)\n"
     ]
    }
   ],
   "source": [
    "print(data.shape)"
   ]
  },
  {
   "cell_type": "code",
   "execution_count": 65,
   "metadata": {},
   "outputs": [],
   "source": [
    "df_os_browser = pd.concat([data, df_user_agent_features], axis=1)"
   ]
  },
  {
   "cell_type": "code",
   "execution_count": 66,
   "metadata": {},
   "outputs": [
    {
     "data": {
      "text/plain": [
       "Index(['CLNT_RMT_IP', 'AMS_trans_rsn_cd', 'CLICK_TS', 'status', 'browser',\n",
       "       'os', 'device_type'],\n",
       "      dtype='object')"
      ]
     },
     "execution_count": 66,
     "metadata": {},
     "output_type": "execute_result"
    }
   ],
   "source": [
    "df_os_browser = df_os_browser.drop('BRWSR_NAME', axis=1)\n",
    "df_os_browser.columns"
   ]
  },
  {
   "cell_type": "code",
   "execution_count": 67,
   "metadata": {},
   "outputs": [
    {
     "name": "stdout",
     "output_type": "stream",
     "text": [
      "AMS_trans_rsn_cd\n",
      "0    18637\n",
      "6     2112\n",
      "7      477\n",
      "8       87\n",
      "4       47\n",
      "2       17\n",
      "Name: count, dtype: int64\n",
      "status\n",
      "1    18637\n",
      "0     2740\n",
      "Name: count, dtype: int64\n"
     ]
    }
   ],
   "source": [
    "category_counts_AMS_TRANS_RSN_CD = data['AMS_trans_rsn_cd'].value_counts()\n",
    "print(category_counts_AMS_TRANS_RSN_CD)\n",
    "\n",
    "\n",
    "category_counts_AMS_TRANS_RSN_CD = data['status'].value_counts()\n",
    "print(category_counts_AMS_TRANS_RSN_CD)"
   ]
  },
  {
   "cell_type": "code",
   "execution_count": 69,
   "metadata": {},
   "outputs": [
    {
     "name": "stdout",
     "output_type": "stream",
     "text": [
      "           CLNT_RMT_IP  AMS_trans_rsn_cd             CLICK_TS  status  \\\n",
      "0        94.15.140.105                 0  10/22/2024 10:23:59       1   \n",
      "1       90.212.167.240                 0  10/22/2024 10:22:29       1   \n",
      "2       51.146.174.248                 0  10/22/2024 10:21:35       1   \n",
      "3       84.185.160.157                 0  10/22/2024 10:21:23       1   \n",
      "4      176.116.129.194                 0  10/22/2024 10:20:47       1   \n",
      "...                ...               ...                  ...     ...   \n",
      "21372      86.5.147.57                 0  10/22/2024 10:18:52       1   \n",
      "21373    99.234.16.149                 7  10/22/2024 10:19:31       0   \n",
      "21374    90.131.40.178                 0  10/22/2024 10:21:19       1   \n",
      "21375     176.2.144.35                 0  10/22/2024 10:21:32       1   \n",
      "21376   87.185.148.244                 0  10/22/2024 10:23:29       1   \n",
      "\n",
      "                          browser        os device_type  \n",
      "0                           Opera   Windows     desktop  \n",
      "1                          Safari  Mac OS X     desktop  \n",
      "2      Mobile Safari UI/WKWebView       iOS      mobile  \n",
      "3                           Other   Android      mobile  \n",
      "4                          Chrome   Windows     desktop  \n",
      "...                           ...       ...         ...  \n",
      "21372               Mobile Safari       iOS      mobile  \n",
      "21373               Chrome Mobile   Android      mobile  \n",
      "21374                       Other   Android      mobile  \n",
      "21375               Chrome Mobile   Android      mobile  \n",
      "21376                        Edge   Windows     desktop  \n",
      "\n",
      "[21377 rows x 7 columns]\n"
     ]
    }
   ],
   "source": [
    "def categorize_browser(browser_column):\n",
    "    # Define the browsers to keep based on the 10,000 row threshold\n",
    "    popular_browsers = ['Chrome Mobile', 'Chrome', 'Mobile Safari', 'Mobile Safari UI/WKWebView', 'Edge', 'Firefox', 'Samsung Internet', 'Safari', 'Google', 'Chrome Mobile', 'Opera', 'FacebookBot', 'Facebook', 'ImagesiftBot']\n",
    "\n",
    "    # Apply the categorization\n",
    "    browser_column = browser_column.apply(lambda x: x if x in popular_browsers else 'Other')\n",
    "    return browser_column\n",
    "\n",
    "# Function to categorize OS based on the 1% rule and keeping till Ubuntu\n",
    "def categorize_os(os_column):\n",
    "    # Define the OSes to keep based on the row threshold (up to Ubuntu)\n",
    "    popular_os = ['Android', 'Other', 'iOS', 'Windows', 'Mac OS X', 'Linux', 'Ubuntu', 'Chrome OS']\n",
    "\n",
    "    # Apply the categorization\n",
    "    os_column = os_column.apply(lambda x: x if x in popular_os else 'Other')\n",
    "    return os_column\n",
    "\n",
    "# Apply categorization functions to the DataFrame\n",
    "data['browser'] = categorize_browser(data['browser'])\n",
    "data['os'] = categorize_os(data['os'])\n",
    "\n",
    "# Display the transformed DataFrame\n",
    "print(data)\n"
   ]
  },
  {
   "cell_type": "code",
   "execution_count": 70,
   "metadata": {},
   "outputs": [],
   "source": [
    "import re\n",
    "\n",
    "# Function to check if the IP address is valid\n",
    "def is_valid_ipv4(ip):\n",
    "    if pd.isna(ip):  # Check for None or NaN\n",
    "        return False\n",
    "    pattern = r'^(25[0-5]|2[0-4][0-9]|[01]?[0-9][0-9]?)\\.(25[0-5]|2[0-4][0-9]|[01]?[0-9][0-9]?)\\.(25[0-5]|2[0-4][0-9]|[01]?[0-9][0-9]?)\\.(25[0-5]|2[0-4][0-9]|[01]?[0-9][0-9]?)$'\n",
    "    return re.match(pattern, ip) is not None\n",
    "\n",
    "# Apply the function and create a mask for valid IP addresses\n",
    "valid_ips_mask = data['CLNT_RMT_IP'].apply(is_valid_ipv4)\n",
    "\n",
    "# Drop rows with invalid IP addresses\n",
    "data = data[valid_ips_mask]"
   ]
  },
  {
   "cell_type": "code",
   "execution_count": 71,
   "metadata": {},
   "outputs": [
    {
     "name": "stdout",
     "output_type": "stream",
     "text": [
      "       browser_Chrome  browser_Chrome Mobile  browser_Edge  browser_Facebook  \\\n",
      "0               False                  False         False             False   \n",
      "1               False                  False         False             False   \n",
      "2               False                  False         False             False   \n",
      "3               False                  False         False             False   \n",
      "4                True                  False         False             False   \n",
      "...               ...                    ...           ...               ...   \n",
      "21372           False                  False         False             False   \n",
      "21373           False                   True         False             False   \n",
      "21374           False                  False         False             False   \n",
      "21375           False                   True         False             False   \n",
      "21376           False                  False          True             False   \n",
      "\n",
      "       browser_FacebookBot  browser_Firefox  browser_Google  \\\n",
      "0                    False            False           False   \n",
      "1                    False            False           False   \n",
      "2                    False            False           False   \n",
      "3                    False            False           False   \n",
      "4                    False            False           False   \n",
      "...                    ...              ...             ...   \n",
      "21372                False            False           False   \n",
      "21373                False            False           False   \n",
      "21374                False            False           False   \n",
      "21375                False            False           False   \n",
      "21376                False            False           False   \n",
      "\n",
      "       browser_ImagesiftBot  browser_Mobile Safari  \\\n",
      "0                         0                  False   \n",
      "1                         0                  False   \n",
      "2                         0                  False   \n",
      "3                         0                  False   \n",
      "4                         0                  False   \n",
      "...                     ...                    ...   \n",
      "21372                     0                   True   \n",
      "21373                     0                  False   \n",
      "21374                     0                  False   \n",
      "21375                     0                  False   \n",
      "21376                     0                  False   \n",
      "\n",
      "       browser_Mobile Safari UI/WKWebView  ...  AMS_trans_rsn_cd_7  \\\n",
      "0                                   False  ...               False   \n",
      "1                                   False  ...               False   \n",
      "2                                    True  ...               False   \n",
      "3                                   False  ...               False   \n",
      "4                                   False  ...               False   \n",
      "...                                   ...  ...                 ...   \n",
      "21372                               False  ...               False   \n",
      "21373                               False  ...                True   \n",
      "21374                               False  ...               False   \n",
      "21375                               False  ...               False   \n",
      "21376                               False  ...               False   \n",
      "\n",
      "       AMS_trans_rsn_cd_8  status   ip_as_int  year  month  day  hour  minute  \\\n",
      "0                   False       1  1578077289  2024     10   22    10      23   \n",
      "1                   False       1  1523886064  2024     10   22    10      22   \n",
      "2                   False       1   865251064  2024     10   22    10      21   \n",
      "3                   False       1  1421451421  2024     10   22    10      21   \n",
      "4                   False       1  2960425410  2024     10   22    10      20   \n",
      "...                   ...     ...         ...   ...    ...  ...   ...     ...   \n",
      "21372               False       1  1443205945  2024     10   22    10      18   \n",
      "21373               False       0  1676284053  2024     10   22    10      19   \n",
      "21374               False       1  1518545074  2024     10   22    10      21   \n",
      "21375               False       1  2952957987  2024     10   22    10      21   \n",
      "21376               False       1  1471780084  2024     10   22    10      23   \n",
      "\n",
      "       second  \n",
      "0          59  \n",
      "1          29  \n",
      "2          35  \n",
      "3          23  \n",
      "4          47  \n",
      "...       ...  \n",
      "21372      52  \n",
      "21373      31  \n",
      "21374      19  \n",
      "21375      32  \n",
      "21376      29  \n",
      "\n",
      "[21358 rows x 42 columns]\n"
     ]
    },
    {
     "name": "stderr",
     "output_type": "stream",
     "text": [
      "C:\\Users\\Rajneesh\\AppData\\Local\\Temp\\ipykernel_8204\\3908171814.py:10: SettingWithCopyWarning: \n",
      "A value is trying to be set on a copy of a slice from a DataFrame.\n",
      "Try using .loc[row_indexer,col_indexer] = value instead\n",
      "\n",
      "See the caveats in the documentation: https://pandas.pydata.org/pandas-docs/stable/user_guide/indexing.html#returning-a-view-versus-a-copy\n",
      "  data['ip_as_int'] = data['CLNT_RMT_IP'].apply(ipv4_to_int)\n",
      "C:\\Users\\Rajneesh\\AppData\\Local\\Temp\\ipykernel_8204\\3908171814.py:11: SettingWithCopyWarning: \n",
      "A value is trying to be set on a copy of a slice from a DataFrame.\n",
      "Try using .loc[row_indexer,col_indexer] = value instead\n",
      "\n",
      "See the caveats in the documentation: https://pandas.pydata.org/pandas-docs/stable/user_guide/indexing.html#returning-a-view-versus-a-copy\n",
      "  data['CLICK_TS'] = pd.to_datetime(data['CLICK_TS'])\n",
      "C:\\Users\\Rajneesh\\AppData\\Local\\Temp\\ipykernel_8204\\3908171814.py:14: SettingWithCopyWarning: \n",
      "A value is trying to be set on a copy of a slice from a DataFrame.\n",
      "Try using .loc[row_indexer,col_indexer] = value instead\n",
      "\n",
      "See the caveats in the documentation: https://pandas.pydata.org/pandas-docs/stable/user_guide/indexing.html#returning-a-view-versus-a-copy\n",
      "  data['year'] = data['CLICK_TS'].dt.year\n",
      "C:\\Users\\Rajneesh\\AppData\\Local\\Temp\\ipykernel_8204\\3908171814.py:15: SettingWithCopyWarning: \n",
      "A value is trying to be set on a copy of a slice from a DataFrame.\n",
      "Try using .loc[row_indexer,col_indexer] = value instead\n",
      "\n",
      "See the caveats in the documentation: https://pandas.pydata.org/pandas-docs/stable/user_guide/indexing.html#returning-a-view-versus-a-copy\n",
      "  data['month'] = data['CLICK_TS'].dt.month\n",
      "C:\\Users\\Rajneesh\\AppData\\Local\\Temp\\ipykernel_8204\\3908171814.py:16: SettingWithCopyWarning: \n",
      "A value is trying to be set on a copy of a slice from a DataFrame.\n",
      "Try using .loc[row_indexer,col_indexer] = value instead\n",
      "\n",
      "See the caveats in the documentation: https://pandas.pydata.org/pandas-docs/stable/user_guide/indexing.html#returning-a-view-versus-a-copy\n",
      "  data['day'] = data['CLICK_TS'].dt.day\n",
      "C:\\Users\\Rajneesh\\AppData\\Local\\Temp\\ipykernel_8204\\3908171814.py:17: SettingWithCopyWarning: \n",
      "A value is trying to be set on a copy of a slice from a DataFrame.\n",
      "Try using .loc[row_indexer,col_indexer] = value instead\n",
      "\n",
      "See the caveats in the documentation: https://pandas.pydata.org/pandas-docs/stable/user_guide/indexing.html#returning-a-view-versus-a-copy\n",
      "  data['hour'] = data['CLICK_TS'].dt.hour\n",
      "C:\\Users\\Rajneesh\\AppData\\Local\\Temp\\ipykernel_8204\\3908171814.py:18: SettingWithCopyWarning: \n",
      "A value is trying to be set on a copy of a slice from a DataFrame.\n",
      "Try using .loc[row_indexer,col_indexer] = value instead\n",
      "\n",
      "See the caveats in the documentation: https://pandas.pydata.org/pandas-docs/stable/user_guide/indexing.html#returning-a-view-versus-a-copy\n",
      "  data['minute'] = data['CLICK_TS'].dt.minute\n",
      "C:\\Users\\Rajneesh\\AppData\\Local\\Temp\\ipykernel_8204\\3908171814.py:19: SettingWithCopyWarning: \n",
      "A value is trying to be set on a copy of a slice from a DataFrame.\n",
      "Try using .loc[row_indexer,col_indexer] = value instead\n",
      "\n",
      "See the caveats in the documentation: https://pandas.pydata.org/pandas-docs/stable/user_guide/indexing.html#returning-a-view-versus-a-copy\n",
      "  data['second'] = data['CLICK_TS'].dt.second\n",
      "C:\\Users\\Rajneesh\\AppData\\Local\\Temp\\ipykernel_8204\\3908171814.py:22: SettingWithCopyWarning: \n",
      "A value is trying to be set on a copy of a slice from a DataFrame\n",
      "\n",
      "See the caveats in the documentation: https://pandas.pydata.org/pandas-docs/stable/user_guide/indexing.html#returning-a-view-versus-a-copy\n",
      "  data.drop(['CLNT_RMT_IP', 'CLICK_TS'], axis=1, inplace=True)\n"
     ]
    }
   ],
   "source": [
    "import socket\n",
    "import struct\n",
    "import pandas as pd\n",
    "\n",
    "# 1. Convert IP to integer\n",
    "def ipv4_to_int(ip):\n",
    "    return struct.unpack(\"!I\", socket.inet_aton(ip))[0]\n",
    "\n",
    "# Assume `data` is your DataFrame\n",
    "data['ip_as_int'] = data['CLNT_RMT_IP'].apply(ipv4_to_int)\n",
    "data['CLICK_TS'] = pd.to_datetime(data['CLICK_TS'])\n",
    "\n",
    "# 3. Extract features from datetime\n",
    "data['year'] = data['CLICK_TS'].dt.year\n",
    "data['month'] = data['CLICK_TS'].dt.month\n",
    "data['day'] = data['CLICK_TS'].dt.day\n",
    "data['hour'] = data['CLICK_TS'].dt.hour\n",
    "data['minute'] = data['CLICK_TS'].dt.minute\n",
    "data['second'] = data['CLICK_TS'].dt.second\n",
    "\n",
    "# 4. Drop original date and time columns\n",
    "data.drop(['CLNT_RMT_IP', 'CLICK_TS'], axis=1, inplace=True)\n",
    "\n",
    "# 5. Encode categorical features with one-hot encoding\n",
    "categorical_features = ['browser', 'os', 'device_type', 'AMS_trans_rsn_cd']\n",
    "df_encoded = pd.get_dummies(data, columns=categorical_features)\n",
    "\n",
    "# List of categorical features expected from training\n",
    "cat_features = ['browser_Chrome', 'browser_Chrome Mobile', 'browser_Edge',\n",
    "       'browser_Facebook', 'browser_FacebookBot', 'browser_Firefox',\n",
    "       'browser_Google', 'browser_ImagesiftBot', 'browser_Mobile Safari',\n",
    "       'browser_Mobile Safari UI/WKWebView', 'browser_Opera', 'browser_Other',\n",
    "       'browser_Safari', 'browser_Samsung Internet', 'os_Android',\n",
    "       'os_Chrome OS', 'os_Linux', 'os_Mac OS X', 'os_Other', 'os_Ubuntu',\n",
    "       'os_Windows', 'os_iOS', 'device_type_bot', 'device_type_desktop',\n",
    "       'device_type_mobile', 'device_type_other', 'device_type_tablet',\n",
    "       'AMS_trans_rsn_cd_0', 'AMS_trans_rsn_cd_2', 'AMS_trans_rsn_cd_4',\n",
    "       'AMS_trans_rsn_cd_5', 'AMS_trans_rsn_cd_6', 'AMS_trans_rsn_cd_7',\n",
    "       'AMS_trans_rsn_cd_8']\n",
    "\n",
    "# Ensure all columns from training set are present in `df_encoded`\n",
    "for col in cat_features:\n",
    "    if col not in df_encoded.columns:\n",
    "        df_encoded[col] = 0  # Add missing column with 0\n",
    "\n",
    "# Reorder columns to match the training set\n",
    "df_encoded = df_encoded[cat_features + [col for col in df_encoded.columns if col not in cat_features]]\n",
    "\n",
    "# Display the processed DataFrame\n",
    "print(df_encoded)\n"
   ]
  },
  {
   "cell_type": "code",
   "execution_count": 73,
   "metadata": {},
   "outputs": [
    {
     "data": {
      "text/plain": [
       "Index(['browser_Chrome', 'browser_Chrome Mobile', 'browser_Edge',\n",
       "       'browser_Facebook', 'browser_FacebookBot', 'browser_Firefox',\n",
       "       'browser_Google', 'browser_ImagesiftBot', 'browser_Mobile Safari',\n",
       "       'browser_Mobile Safari UI/WKWebView', 'browser_Opera', 'browser_Other',\n",
       "       'browser_Safari', 'browser_Samsung Internet', 'os_Android',\n",
       "       'os_Chrome OS', 'os_Linux', 'os_Mac OS X', 'os_Other', 'os_Ubuntu',\n",
       "       'os_Windows', 'os_iOS', 'device_type_bot', 'device_type_desktop',\n",
       "       'device_type_mobile', 'device_type_other', 'device_type_tablet',\n",
       "       'AMS_trans_rsn_cd_0', 'AMS_trans_rsn_cd_2', 'AMS_trans_rsn_cd_4',\n",
       "       'AMS_trans_rsn_cd_5', 'AMS_trans_rsn_cd_6', 'AMS_trans_rsn_cd_7',\n",
       "       'AMS_trans_rsn_cd_8', 'status', 'ip_as_int', 'year', 'month', 'day',\n",
       "       'hour', 'minute', 'second'],\n",
       "      dtype='object')"
      ]
     },
     "execution_count": 73,
     "metadata": {},
     "output_type": "execute_result"
    }
   ],
   "source": [
    "df_encoded.columns"
   ]
  },
  {
   "cell_type": "code",
   "execution_count": null,
   "metadata": {},
   "outputs": [
    {
     "ename": "NameError",
     "evalue": "name 'df_encoded' is not defined",
     "output_type": "error",
     "traceback": [
      "\u001b[1;31m---------------------------------------------------------------------------\u001b[0m",
      "\u001b[1;31mNameError\u001b[0m                                 Traceback (most recent call last)",
      "Cell \u001b[1;32mIn[6], line 6\u001b[0m\n\u001b[0;32m      2\u001b[0m \u001b[38;5;28;01mfrom\u001b[39;00m \u001b[38;5;21;01msklearn\u001b[39;00m\u001b[38;5;21;01m.\u001b[39;00m\u001b[38;5;21;01mensemble\u001b[39;00m \u001b[38;5;28;01mimport\u001b[39;00m RandomForestClassifier\n\u001b[0;32m      4\u001b[0m \u001b[38;5;66;03m# Step 1: Split df_encoded into X and y\u001b[39;00m\n\u001b[0;32m      5\u001b[0m \u001b[38;5;66;03m# Assume the target column is 'target' (replace with the actual column name of the target in your df_encoded)\u001b[39;00m\n\u001b[1;32m----> 6\u001b[0m X_new \u001b[38;5;241m=\u001b[39m \u001b[43mdf_encoded\u001b[49m\u001b[38;5;241m.\u001b[39mdrop(\u001b[38;5;124m'\u001b[39m\u001b[38;5;124mstatus\u001b[39m\u001b[38;5;124m'\u001b[39m, axis\u001b[38;5;241m=\u001b[39m\u001b[38;5;241m1\u001b[39m)  \u001b[38;5;66;03m# Features (excluding the target column)\u001b[39;00m\n\u001b[0;32m      7\u001b[0m y_new \u001b[38;5;241m=\u001b[39m df_encoded[\u001b[38;5;124m'\u001b[39m\u001b[38;5;124mstatus\u001b[39m\u001b[38;5;124m'\u001b[39m]  \u001b[38;5;66;03m# Target (the actual labels)\u001b[39;00m\n\u001b[0;32m      8\u001b[0m model \u001b[38;5;241m=\u001b[39m RandomForestClassifier(class_weight\u001b[38;5;241m=\u001b[39m\u001b[38;5;124m'\u001b[39m\u001b[38;5;124mbalanced\u001b[39m\u001b[38;5;124m'\u001b[39m, n_estimators\u001b[38;5;241m=\u001b[39m\u001b[38;5;241m100\u001b[39m, random_state\u001b[38;5;241m=\u001b[39m\u001b[38;5;241m42\u001b[39m, n_jobs\u001b[38;5;241m=\u001b[39m\u001b[38;5;241m-\u001b[39m\u001b[38;5;241m1\u001b[39m)\n",
      "\u001b[1;31mNameError\u001b[0m: name 'df_encoded' is not defined"
     ]
    }
   ],
   "source": [
    "from sklearn.metrics import accuracy_score, precision_score, recall_score, f1_score\n",
    "from sklearn.ensemble import RandomForestClassifier\n",
    "\n",
    "# Step 1: Split df_encoded into X and y\n",
    "# Assume the target column is 'target' (replace with the actual column name of the target in your df_encoded)\n",
    "X_new = df_encoded.drop('status', axis=1)  # Features (excluding the target column)\n",
    "y_new = df_encoded['status']  # Target (the actual labels)\n",
    "model = RandomForestClassifier(class_weight='balanced', n_estimators=100, random_state=42, n_jobs=-1)\n",
    "\n",
    "# Step 2: Make predictions on new data\n",
    "y_pred = model.predict(X_new)\n",
    "\n",
    "# Step 3: Calculate evaluation metrics\n",
    "accuracy = accuracy_score(y_new, y_pred)\n",
    "precision = precision_score(y_new, y_pred, average='weighted')  # Adjust 'average' based on the type of classification problem\n",
    "recall = recall_score(y_new, y_pred, average='weighted')  # Adjust 'average' based on the type of classification problem\n",
    "f1 = f1_score(y_new, y_pred, average='weighted')  # Adjust 'average' based on the type of classification problem\n",
    "\n",
    "# Print the scores\n",
    "print(f'Accuracy: {accuracy:.4f}')\n",
    "print(f'Precision: {precision:.4f}')\n",
    "print(f'Recall: {recall:.4f}')\n",
    "print(f'F1 Score: {f1:.4f}')\n"
   ]
  },
  {
   "cell_type": "code",
   "execution_count": 87,
   "metadata": {},
   "outputs": [
    {
     "ename": "MemoryError",
     "evalue": "Unable to allocate 156. GiB for an array with shape (977793, 21358) and data type int64",
     "output_type": "error",
     "traceback": [
      "\u001b[1;31m---------------------------------------------------------------------------\u001b[0m",
      "\u001b[1;31mMemoryError\u001b[0m                               Traceback (most recent call last)",
      "Cell \u001b[1;32mIn[87], line 1\u001b[0m\n\u001b[1;32m----> 1\u001b[0m X_new \u001b[38;5;241m=\u001b[39m \u001b[43mX_new\u001b[49m\u001b[38;5;241;43m.\u001b[39;49m\u001b[43mreindex\u001b[49m\u001b[43m(\u001b[49m\u001b[43mcolumns\u001b[49m\u001b[38;5;241;43m=\u001b[39;49m\u001b[43mX\u001b[49m\u001b[43m,\u001b[49m\u001b[43m \u001b[49m\u001b[43mfill_value\u001b[49m\u001b[38;5;241;43m=\u001b[39;49m\u001b[38;5;241;43m0\u001b[39;49m\u001b[43m)\u001b[49m\n\u001b[0;32m      3\u001b[0m model\u001b[38;5;241m.\u001b[39mfit(X, y)\n\u001b[0;32m      5\u001b[0m \u001b[38;5;66;03m# Now you can use the model to predict on new data\u001b[39;00m\n",
      "File \u001b[1;32md:\\IP-trace-ebay\\env\\Lib\\site-packages\\pandas\\core\\frame.py:5378\u001b[0m, in \u001b[0;36mDataFrame.reindex\u001b[1;34m(self, labels, index, columns, axis, method, copy, level, fill_value, limit, tolerance)\u001b[0m\n\u001b[0;32m   5359\u001b[0m \u001b[38;5;129m@doc\u001b[39m(\n\u001b[0;32m   5360\u001b[0m     NDFrame\u001b[38;5;241m.\u001b[39mreindex,\n\u001b[0;32m   5361\u001b[0m     klass\u001b[38;5;241m=\u001b[39m_shared_doc_kwargs[\u001b[38;5;124m\"\u001b[39m\u001b[38;5;124mklass\u001b[39m\u001b[38;5;124m\"\u001b[39m],\n\u001b[1;32m   (...)\u001b[0m\n\u001b[0;32m   5376\u001b[0m     tolerance\u001b[38;5;241m=\u001b[39m\u001b[38;5;28;01mNone\u001b[39;00m,\n\u001b[0;32m   5377\u001b[0m ) \u001b[38;5;241m-\u001b[39m\u001b[38;5;241m>\u001b[39m DataFrame:\n\u001b[1;32m-> 5378\u001b[0m     \u001b[38;5;28;01mreturn\u001b[39;00m \u001b[38;5;28;43msuper\u001b[39;49m\u001b[43m(\u001b[49m\u001b[43m)\u001b[49m\u001b[38;5;241;43m.\u001b[39;49m\u001b[43mreindex\u001b[49m\u001b[43m(\u001b[49m\n\u001b[0;32m   5379\u001b[0m \u001b[43m        \u001b[49m\u001b[43mlabels\u001b[49m\u001b[38;5;241;43m=\u001b[39;49m\u001b[43mlabels\u001b[49m\u001b[43m,\u001b[49m\n\u001b[0;32m   5380\u001b[0m \u001b[43m        \u001b[49m\u001b[43mindex\u001b[49m\u001b[38;5;241;43m=\u001b[39;49m\u001b[43mindex\u001b[49m\u001b[43m,\u001b[49m\n\u001b[0;32m   5381\u001b[0m \u001b[43m        \u001b[49m\u001b[43mcolumns\u001b[49m\u001b[38;5;241;43m=\u001b[39;49m\u001b[43mcolumns\u001b[49m\u001b[43m,\u001b[49m\n\u001b[0;32m   5382\u001b[0m \u001b[43m        \u001b[49m\u001b[43maxis\u001b[49m\u001b[38;5;241;43m=\u001b[39;49m\u001b[43maxis\u001b[49m\u001b[43m,\u001b[49m\n\u001b[0;32m   5383\u001b[0m \u001b[43m        \u001b[49m\u001b[43mmethod\u001b[49m\u001b[38;5;241;43m=\u001b[39;49m\u001b[43mmethod\u001b[49m\u001b[43m,\u001b[49m\n\u001b[0;32m   5384\u001b[0m \u001b[43m        \u001b[49m\u001b[43mcopy\u001b[49m\u001b[38;5;241;43m=\u001b[39;49m\u001b[43mcopy\u001b[49m\u001b[43m,\u001b[49m\n\u001b[0;32m   5385\u001b[0m \u001b[43m        \u001b[49m\u001b[43mlevel\u001b[49m\u001b[38;5;241;43m=\u001b[39;49m\u001b[43mlevel\u001b[49m\u001b[43m,\u001b[49m\n\u001b[0;32m   5386\u001b[0m \u001b[43m        \u001b[49m\u001b[43mfill_value\u001b[49m\u001b[38;5;241;43m=\u001b[39;49m\u001b[43mfill_value\u001b[49m\u001b[43m,\u001b[49m\n\u001b[0;32m   5387\u001b[0m \u001b[43m        \u001b[49m\u001b[43mlimit\u001b[49m\u001b[38;5;241;43m=\u001b[39;49m\u001b[43mlimit\u001b[49m\u001b[43m,\u001b[49m\n\u001b[0;32m   5388\u001b[0m \u001b[43m        \u001b[49m\u001b[43mtolerance\u001b[49m\u001b[38;5;241;43m=\u001b[39;49m\u001b[43mtolerance\u001b[49m\u001b[43m,\u001b[49m\n\u001b[0;32m   5389\u001b[0m \u001b[43m    \u001b[49m\u001b[43m)\u001b[49m\n",
      "File \u001b[1;32md:\\IP-trace-ebay\\env\\Lib\\site-packages\\pandas\\core\\generic.py:5610\u001b[0m, in \u001b[0;36mNDFrame.reindex\u001b[1;34m(self, labels, index, columns, axis, method, copy, level, fill_value, limit, tolerance)\u001b[0m\n\u001b[0;32m   5607\u001b[0m     \u001b[38;5;28;01mreturn\u001b[39;00m \u001b[38;5;28mself\u001b[39m\u001b[38;5;241m.\u001b[39m_reindex_multi(axes, copy, fill_value)\n\u001b[0;32m   5609\u001b[0m \u001b[38;5;66;03m# perform the reindex on the axes\u001b[39;00m\n\u001b[1;32m-> 5610\u001b[0m \u001b[38;5;28;01mreturn\u001b[39;00m \u001b[38;5;28;43mself\u001b[39;49m\u001b[38;5;241;43m.\u001b[39;49m\u001b[43m_reindex_axes\u001b[49m\u001b[43m(\u001b[49m\n\u001b[0;32m   5611\u001b[0m \u001b[43m    \u001b[49m\u001b[43maxes\u001b[49m\u001b[43m,\u001b[49m\u001b[43m \u001b[49m\u001b[43mlevel\u001b[49m\u001b[43m,\u001b[49m\u001b[43m \u001b[49m\u001b[43mlimit\u001b[49m\u001b[43m,\u001b[49m\u001b[43m \u001b[49m\u001b[43mtolerance\u001b[49m\u001b[43m,\u001b[49m\u001b[43m \u001b[49m\u001b[43mmethod\u001b[49m\u001b[43m,\u001b[49m\u001b[43m \u001b[49m\u001b[43mfill_value\u001b[49m\u001b[43m,\u001b[49m\u001b[43m \u001b[49m\u001b[43mcopy\u001b[49m\n\u001b[0;32m   5612\u001b[0m \u001b[43m\u001b[49m\u001b[43m)\u001b[49m\u001b[38;5;241m.\u001b[39m__finalize__(\u001b[38;5;28mself\u001b[39m, method\u001b[38;5;241m=\u001b[39m\u001b[38;5;124m\"\u001b[39m\u001b[38;5;124mreindex\u001b[39m\u001b[38;5;124m\"\u001b[39m)\n",
      "File \u001b[1;32md:\\IP-trace-ebay\\env\\Lib\\site-packages\\pandas\\core\\generic.py:5638\u001b[0m, in \u001b[0;36mNDFrame._reindex_axes\u001b[1;34m(self, axes, level, limit, tolerance, method, fill_value, copy)\u001b[0m\n\u001b[0;32m   5633\u001b[0m new_index, indexer \u001b[38;5;241m=\u001b[39m ax\u001b[38;5;241m.\u001b[39mreindex(\n\u001b[0;32m   5634\u001b[0m     labels, level\u001b[38;5;241m=\u001b[39mlevel, limit\u001b[38;5;241m=\u001b[39mlimit, tolerance\u001b[38;5;241m=\u001b[39mtolerance, method\u001b[38;5;241m=\u001b[39mmethod\n\u001b[0;32m   5635\u001b[0m )\n\u001b[0;32m   5637\u001b[0m axis \u001b[38;5;241m=\u001b[39m \u001b[38;5;28mself\u001b[39m\u001b[38;5;241m.\u001b[39m_get_axis_number(a)\n\u001b[1;32m-> 5638\u001b[0m obj \u001b[38;5;241m=\u001b[39m \u001b[43mobj\u001b[49m\u001b[38;5;241;43m.\u001b[39;49m\u001b[43m_reindex_with_indexers\u001b[49m\u001b[43m(\u001b[49m\n\u001b[0;32m   5639\u001b[0m \u001b[43m    \u001b[49m\u001b[43m{\u001b[49m\u001b[43maxis\u001b[49m\u001b[43m:\u001b[49m\u001b[43m \u001b[49m\u001b[43m[\u001b[49m\u001b[43mnew_index\u001b[49m\u001b[43m,\u001b[49m\u001b[43m \u001b[49m\u001b[43mindexer\u001b[49m\u001b[43m]\u001b[49m\u001b[43m}\u001b[49m\u001b[43m,\u001b[49m\n\u001b[0;32m   5640\u001b[0m \u001b[43m    \u001b[49m\u001b[43mfill_value\u001b[49m\u001b[38;5;241;43m=\u001b[39;49m\u001b[43mfill_value\u001b[49m\u001b[43m,\u001b[49m\n\u001b[0;32m   5641\u001b[0m \u001b[43m    \u001b[49m\u001b[43mcopy\u001b[49m\u001b[38;5;241;43m=\u001b[39;49m\u001b[43mcopy\u001b[49m\u001b[43m,\u001b[49m\n\u001b[0;32m   5642\u001b[0m \u001b[43m    \u001b[49m\u001b[43mallow_dups\u001b[49m\u001b[38;5;241;43m=\u001b[39;49m\u001b[38;5;28;43;01mFalse\u001b[39;49;00m\u001b[43m,\u001b[49m\n\u001b[0;32m   5643\u001b[0m \u001b[43m\u001b[49m\u001b[43m)\u001b[49m\n\u001b[0;32m   5644\u001b[0m \u001b[38;5;66;03m# If we've made a copy once, no need to make another one\u001b[39;00m\n\u001b[0;32m   5645\u001b[0m copy \u001b[38;5;241m=\u001b[39m \u001b[38;5;28;01mFalse\u001b[39;00m\n",
      "File \u001b[1;32md:\\IP-trace-ebay\\env\\Lib\\site-packages\\pandas\\core\\generic.py:5686\u001b[0m, in \u001b[0;36mNDFrame._reindex_with_indexers\u001b[1;34m(self, reindexers, fill_value, copy, allow_dups)\u001b[0m\n\u001b[0;32m   5683\u001b[0m     indexer \u001b[38;5;241m=\u001b[39m ensure_platform_int(indexer)\n\u001b[0;32m   5685\u001b[0m \u001b[38;5;66;03m# TODO: speed up on homogeneous DataFrame objects (see _reindex_multi)\u001b[39;00m\n\u001b[1;32m-> 5686\u001b[0m new_data \u001b[38;5;241m=\u001b[39m \u001b[43mnew_data\u001b[49m\u001b[38;5;241;43m.\u001b[39;49m\u001b[43mreindex_indexer\u001b[49m\u001b[43m(\u001b[49m\n\u001b[0;32m   5687\u001b[0m \u001b[43m    \u001b[49m\u001b[43mindex\u001b[49m\u001b[43m,\u001b[49m\n\u001b[0;32m   5688\u001b[0m \u001b[43m    \u001b[49m\u001b[43mindexer\u001b[49m\u001b[43m,\u001b[49m\n\u001b[0;32m   5689\u001b[0m \u001b[43m    \u001b[49m\u001b[43maxis\u001b[49m\u001b[38;5;241;43m=\u001b[39;49m\u001b[43mbaxis\u001b[49m\u001b[43m,\u001b[49m\n\u001b[0;32m   5690\u001b[0m \u001b[43m    \u001b[49m\u001b[43mfill_value\u001b[49m\u001b[38;5;241;43m=\u001b[39;49m\u001b[43mfill_value\u001b[49m\u001b[43m,\u001b[49m\n\u001b[0;32m   5691\u001b[0m \u001b[43m    \u001b[49m\u001b[43mallow_dups\u001b[49m\u001b[38;5;241;43m=\u001b[39;49m\u001b[43mallow_dups\u001b[49m\u001b[43m,\u001b[49m\n\u001b[0;32m   5692\u001b[0m \u001b[43m    \u001b[49m\u001b[43mcopy\u001b[49m\u001b[38;5;241;43m=\u001b[39;49m\u001b[43mcopy\u001b[49m\u001b[43m,\u001b[49m\n\u001b[0;32m   5693\u001b[0m \u001b[43m\u001b[49m\u001b[43m)\u001b[49m\n\u001b[0;32m   5694\u001b[0m \u001b[38;5;66;03m# If we've made a copy once, no need to make another one\u001b[39;00m\n\u001b[0;32m   5695\u001b[0m copy \u001b[38;5;241m=\u001b[39m \u001b[38;5;28;01mFalse\u001b[39;00m\n",
      "File \u001b[1;32md:\\IP-trace-ebay\\env\\Lib\\site-packages\\pandas\\core\\internals\\managers.py:680\u001b[0m, in \u001b[0;36mBaseBlockManager.reindex_indexer\u001b[1;34m(self, new_axis, indexer, axis, fill_value, allow_dups, copy, only_slice, use_na_proxy)\u001b[0m\n\u001b[0;32m    677\u001b[0m     \u001b[38;5;28;01mraise\u001b[39;00m \u001b[38;5;167;01mIndexError\u001b[39;00m(\u001b[38;5;124m\"\u001b[39m\u001b[38;5;124mRequested axis not found in manager\u001b[39m\u001b[38;5;124m\"\u001b[39m)\n\u001b[0;32m    679\u001b[0m \u001b[38;5;28;01mif\u001b[39;00m axis \u001b[38;5;241m==\u001b[39m \u001b[38;5;241m0\u001b[39m:\n\u001b[1;32m--> 680\u001b[0m     new_blocks \u001b[38;5;241m=\u001b[39m \u001b[38;5;28;43mself\u001b[39;49m\u001b[38;5;241;43m.\u001b[39;49m\u001b[43m_slice_take_blocks_ax0\u001b[49m\u001b[43m(\u001b[49m\n\u001b[0;32m    681\u001b[0m \u001b[43m        \u001b[49m\u001b[43mindexer\u001b[49m\u001b[43m,\u001b[49m\n\u001b[0;32m    682\u001b[0m \u001b[43m        \u001b[49m\u001b[43mfill_value\u001b[49m\u001b[38;5;241;43m=\u001b[39;49m\u001b[43mfill_value\u001b[49m\u001b[43m,\u001b[49m\n\u001b[0;32m    683\u001b[0m \u001b[43m        \u001b[49m\u001b[43monly_slice\u001b[49m\u001b[38;5;241;43m=\u001b[39;49m\u001b[43monly_slice\u001b[49m\u001b[43m,\u001b[49m\n\u001b[0;32m    684\u001b[0m \u001b[43m        \u001b[49m\u001b[43muse_na_proxy\u001b[49m\u001b[38;5;241;43m=\u001b[39;49m\u001b[43muse_na_proxy\u001b[49m\u001b[43m,\u001b[49m\n\u001b[0;32m    685\u001b[0m \u001b[43m    \u001b[49m\u001b[43m)\u001b[49m\n\u001b[0;32m    686\u001b[0m \u001b[38;5;28;01melse\u001b[39;00m:\n\u001b[0;32m    687\u001b[0m     new_blocks \u001b[38;5;241m=\u001b[39m [\n\u001b[0;32m    688\u001b[0m         blk\u001b[38;5;241m.\u001b[39mtake_nd(\n\u001b[0;32m    689\u001b[0m             indexer,\n\u001b[1;32m   (...)\u001b[0m\n\u001b[0;32m    695\u001b[0m         \u001b[38;5;28;01mfor\u001b[39;00m blk \u001b[38;5;129;01min\u001b[39;00m \u001b[38;5;28mself\u001b[39m\u001b[38;5;241m.\u001b[39mblocks\n\u001b[0;32m    696\u001b[0m     ]\n",
      "File \u001b[1;32md:\\IP-trace-ebay\\env\\Lib\\site-packages\\pandas\\core\\internals\\managers.py:801\u001b[0m, in \u001b[0;36mBaseBlockManager._slice_take_blocks_ax0\u001b[1;34m(self, slice_or_indexer, fill_value, only_slice, use_na_proxy, ref_inplace_op)\u001b[0m\n\u001b[0;32m    796\u001b[0m \u001b[38;5;28;01mfor\u001b[39;00m blkno, mgr_locs \u001b[38;5;129;01min\u001b[39;00m libinternals\u001b[38;5;241m.\u001b[39mget_blkno_placements(blknos, group\u001b[38;5;241m=\u001b[39mgroup):\n\u001b[0;32m    797\u001b[0m     \u001b[38;5;28;01mif\u001b[39;00m blkno \u001b[38;5;241m==\u001b[39m \u001b[38;5;241m-\u001b[39m\u001b[38;5;241m1\u001b[39m:\n\u001b[0;32m    798\u001b[0m         \u001b[38;5;66;03m# If we've got here, fill_value was not lib.no_default\u001b[39;00m\n\u001b[0;32m    800\u001b[0m         blocks\u001b[38;5;241m.\u001b[39mappend(\n\u001b[1;32m--> 801\u001b[0m             \u001b[38;5;28;43mself\u001b[39;49m\u001b[38;5;241;43m.\u001b[39;49m\u001b[43m_make_na_block\u001b[49m\u001b[43m(\u001b[49m\n\u001b[0;32m    802\u001b[0m \u001b[43m                \u001b[49m\u001b[43mplacement\u001b[49m\u001b[38;5;241;43m=\u001b[39;49m\u001b[43mmgr_locs\u001b[49m\u001b[43m,\u001b[49m\n\u001b[0;32m    803\u001b[0m \u001b[43m                \u001b[49m\u001b[43mfill_value\u001b[49m\u001b[38;5;241;43m=\u001b[39;49m\u001b[43mfill_value\u001b[49m\u001b[43m,\u001b[49m\n\u001b[0;32m    804\u001b[0m \u001b[43m                \u001b[49m\u001b[43muse_na_proxy\u001b[49m\u001b[38;5;241;43m=\u001b[39;49m\u001b[43muse_na_proxy\u001b[49m\u001b[43m,\u001b[49m\n\u001b[0;32m    805\u001b[0m \u001b[43m            \u001b[49m\u001b[43m)\u001b[49m\n\u001b[0;32m    806\u001b[0m         )\n\u001b[0;32m    807\u001b[0m     \u001b[38;5;28;01melse\u001b[39;00m:\n\u001b[0;32m    808\u001b[0m         blk \u001b[38;5;241m=\u001b[39m \u001b[38;5;28mself\u001b[39m\u001b[38;5;241m.\u001b[39mblocks[blkno]\n",
      "File \u001b[1;32md:\\IP-trace-ebay\\env\\Lib\\site-packages\\pandas\\core\\internals\\managers.py:866\u001b[0m, in \u001b[0;36mBaseBlockManager._make_na_block\u001b[1;34m(self, placement, fill_value, use_na_proxy)\u001b[0m\n\u001b[0;32m    863\u001b[0m shape \u001b[38;5;241m=\u001b[39m (\u001b[38;5;28mlen\u001b[39m(placement), \u001b[38;5;28mself\u001b[39m\u001b[38;5;241m.\u001b[39mshape[\u001b[38;5;241m1\u001b[39m])\n\u001b[0;32m    865\u001b[0m dtype, fill_value \u001b[38;5;241m=\u001b[39m infer_dtype_from_scalar(fill_value)\n\u001b[1;32m--> 866\u001b[0m block_values \u001b[38;5;241m=\u001b[39m \u001b[43mmake_na_array\u001b[49m\u001b[43m(\u001b[49m\u001b[43mdtype\u001b[49m\u001b[43m,\u001b[49m\u001b[43m \u001b[49m\u001b[43mshape\u001b[49m\u001b[43m,\u001b[49m\u001b[43m \u001b[49m\u001b[43mfill_value\u001b[49m\u001b[43m)\u001b[49m\n\u001b[0;32m    867\u001b[0m \u001b[38;5;28;01mreturn\u001b[39;00m new_block_2d(block_values, placement\u001b[38;5;241m=\u001b[39mplacement)\n",
      "File \u001b[1;32md:\\IP-trace-ebay\\env\\Lib\\site-packages\\pandas\\core\\internals\\managers.py:2370\u001b[0m, in \u001b[0;36mmake_na_array\u001b[1;34m(dtype, shape, fill_value)\u001b[0m\n\u001b[0;32m   2366\u001b[0m     \u001b[38;5;28;01mreturn\u001b[39;00m missing_arr\n\u001b[0;32m   2367\u001b[0m \u001b[38;5;28;01melse\u001b[39;00m:\n\u001b[0;32m   2368\u001b[0m     \u001b[38;5;66;03m# NB: we should never get here with dtype integer or bool;\u001b[39;00m\n\u001b[0;32m   2369\u001b[0m     \u001b[38;5;66;03m#  if we did, the missing_arr.fill would cast to gibberish\u001b[39;00m\n\u001b[1;32m-> 2370\u001b[0m     missing_arr \u001b[38;5;241m=\u001b[39m \u001b[43mnp\u001b[49m\u001b[38;5;241;43m.\u001b[39;49m\u001b[43mempty\u001b[49m\u001b[43m(\u001b[49m\u001b[43mshape\u001b[49m\u001b[43m,\u001b[49m\u001b[43m \u001b[49m\u001b[43mdtype\u001b[49m\u001b[38;5;241;43m=\u001b[39;49m\u001b[43mdtype\u001b[49m\u001b[43m)\u001b[49m\n\u001b[0;32m   2371\u001b[0m     missing_arr\u001b[38;5;241m.\u001b[39mfill(fill_value)\n\u001b[0;32m   2373\u001b[0m     \u001b[38;5;28;01mif\u001b[39;00m dtype\u001b[38;5;241m.\u001b[39mkind \u001b[38;5;129;01min\u001b[39;00m \u001b[38;5;124m\"\u001b[39m\u001b[38;5;124mmM\u001b[39m\u001b[38;5;124m\"\u001b[39m:\n",
      "\u001b[1;31mMemoryError\u001b[0m: Unable to allocate 156. GiB for an array with shape (977793, 21358) and data type int64"
     ]
    }
   ],
   "source": [
    "X_new = X_new.reindex(columns=X, fill_value=0)\n",
    "\n",
    "model.fit(X, y)\n",
    "\n",
    "# Now you can use the model to predict on new data\n",
    "y_pred = model.predict(X_new)"
   ]
  },
  {
   "cell_type": "code",
   "execution_count": 77,
   "metadata": {},
   "outputs": [
    {
     "name": "stdout",
     "output_type": "stream",
     "text": [
      "(977793,)\n"
     ]
    }
   ],
   "source": [
    "print(y.shape)"
   ]
  },
  {
   "cell_type": "code",
   "execution_count": 84,
   "metadata": {},
   "outputs": [
    {
     "data": {
      "text/plain": [
       "(977793, 41)"
      ]
     },
     "execution_count": 84,
     "metadata": {},
     "output_type": "execute_result"
    }
   ],
   "source": [
    "X.shape"
   ]
  },
  {
   "cell_type": "code",
   "execution_count": 85,
   "metadata": {},
   "outputs": [
    {
     "data": {
      "text/plain": [
       "(21358, 41)"
      ]
     },
     "execution_count": 85,
     "metadata": {},
     "output_type": "execute_result"
    }
   ],
   "source": [
    "X_new.shape"
   ]
  },
  {
   "cell_type": "code",
   "execution_count": 89,
   "metadata": {},
   "outputs": [],
   "source": [
    "df_encoded.to_csv('../data/processed/data_with_ts_with_features_vpn_removed.csv')"
   ]
  },
  {
   "cell_type": "code",
   "execution_count": 1,
   "metadata": {},
   "outputs": [],
   "source": [
    "import pandas as pd\n",
    "df = pd.read_csv('../data/processed/data_with_features.csv')\n"
   ]
  },
  {
   "cell_type": "code",
   "execution_count": 14,
   "metadata": {},
   "outputs": [
    {
     "data": {
      "text/plain": [
       "Index(['Unnamed: 0', 'status', 'ip_as_int', 'year', 'month', 'day', 'hour',\n",
       "       'minute', 'second', 'browser_Chrome', 'browser_Chrome Mobile',\n",
       "       'browser_Edge', 'browser_Facebook', 'browser_FacebookBot',\n",
       "       'browser_Firefox', 'browser_Google', 'browser_ImagesiftBot',\n",
       "       'browser_Mobile Safari', 'browser_Mobile Safari UI/WKWebView',\n",
       "       'browser_Opera', 'browser_Other', 'browser_Safari',\n",
       "       'browser_Samsung Internet', 'os_Android', 'os_Chrome OS', 'os_Linux',\n",
       "       'os_Mac OS X', 'os_Other', 'os_Ubuntu', 'os_Windows', 'os_iOS',\n",
       "       'device_type_bot', 'device_type_desktop', 'device_type_mobile',\n",
       "       'device_type_other', 'device_type_tablet'],\n",
       "      dtype='object')"
      ]
     },
     "execution_count": 14,
     "metadata": {},
     "output_type": "execute_result"
    }
   ],
   "source": [
    "df.columns"
   ]
  },
  {
   "cell_type": "code",
   "execution_count": 15,
   "metadata": {},
   "outputs": [],
   "source": [
    "df = df.drop(columns=['Unnamed: 0'])\n"
   ]
  },
  {
   "cell_type": "code",
   "execution_count": 16,
   "metadata": {},
   "outputs": [
    {
     "data": {
      "text/plain": [
       "Index(['status', 'ip_as_int', 'year', 'month', 'day', 'hour', 'minute',\n",
       "       'second', 'browser_Chrome', 'browser_Chrome Mobile', 'browser_Edge',\n",
       "       'browser_Facebook', 'browser_FacebookBot', 'browser_Firefox',\n",
       "       'browser_Google', 'browser_ImagesiftBot', 'browser_Mobile Safari',\n",
       "       'browser_Mobile Safari UI/WKWebView', 'browser_Opera', 'browser_Other',\n",
       "       'browser_Safari', 'browser_Samsung Internet', 'os_Android',\n",
       "       'os_Chrome OS', 'os_Linux', 'os_Mac OS X', 'os_Other', 'os_Ubuntu',\n",
       "       'os_Windows', 'os_iOS', 'device_type_bot', 'device_type_desktop',\n",
       "       'device_type_mobile', 'device_type_other', 'device_type_tablet'],\n",
       "      dtype='object')"
      ]
     },
     "execution_count": 16,
     "metadata": {},
     "output_type": "execute_result"
    }
   ],
   "source": [
    "df.columns"
   ]
  },
  {
   "cell_type": "code",
   "execution_count": null,
   "metadata": {},
   "outputs": [],
   "source": [
    "from sklearn.metrics import accuracy_score, precision_score, recall_score, f1_score\n",
    "from sklearn.ensemble import RandomForestClassifier\n",
    "\n",
    "X = df.drop('status', axis=1)\n",
    "y = df['status']\n",
    "model = RandomForestClassifier(class_weight='balanced', n_estimators=100, random_state=42, n_jobs=-1)\n",
    "model.fit(X, y)\n",
    "\n",
    "# Step 2: Make predictions on new data\n",
    "# y = model.predict(X)\n",
    "\n"
   ]
  },
  {
   "cell_type": "code",
   "execution_count": 18,
   "metadata": {},
   "outputs": [
    {
     "data": {
      "text/plain": [
       "['../models/random_forest_model_no_AMS_trans_rsn_cd.joblib']"
      ]
     },
     "execution_count": 18,
     "metadata": {},
     "output_type": "execute_result"
    }
   ],
   "source": [
    "import joblib\n",
    "\n",
    "# Save the model to a file\n",
    "joblib.dump(model, '../models/random_forest_model_no_AMS_trans_rsn_cd.joblib')\n"
   ]
  },
  {
   "cell_type": "code",
   "execution_count": 19,
   "metadata": {},
   "outputs": [],
   "source": [
    "df_new = pd.read_csv('../data/processed/data_with_ts_with_features_vpn_removed.csv')"
   ]
  },
  {
   "cell_type": "code",
   "execution_count": 23,
   "metadata": {},
   "outputs": [
    {
     "data": {
      "text/plain": [
       "Index(['Unnamed: 0', 'browser_Chrome', 'browser_Chrome Mobile', 'browser_Edge',\n",
       "       'browser_Facebook', 'browser_FacebookBot', 'browser_Firefox',\n",
       "       'browser_Google', 'browser_ImagesiftBot', 'browser_Mobile Safari',\n",
       "       'browser_Mobile Safari UI/WKWebView', 'browser_Opera', 'browser_Other',\n",
       "       'browser_Safari', 'browser_Samsung Internet', 'os_Android',\n",
       "       'os_Chrome OS', 'os_Linux', 'os_Mac OS X', 'os_Other', 'os_Ubuntu',\n",
       "       'os_Windows', 'os_iOS', 'device_type_bot', 'device_type_desktop',\n",
       "       'device_type_mobile', 'device_type_other', 'device_type_tablet',\n",
       "       'AMS_trans_rsn_cd_0', 'AMS_trans_rsn_cd_2', 'AMS_trans_rsn_cd_4',\n",
       "       'AMS_trans_rsn_cd_5', 'AMS_trans_rsn_cd_6', 'AMS_trans_rsn_cd_7',\n",
       "       'AMS_trans_rsn_cd_8', 'status', 'ip_as_int', 'year', 'month', 'day',\n",
       "       'hour', 'minute', 'second'],\n",
       "      dtype='object')"
      ]
     },
     "execution_count": 23,
     "metadata": {},
     "output_type": "execute_result"
    }
   ],
   "source": [
    "df_new.columns"
   ]
  },
  {
   "cell_type": "code",
   "execution_count": 24,
   "metadata": {},
   "outputs": [
    {
     "data": {
      "text/plain": [
       "Index(['status', 'ip_as_int', 'year', 'month', 'day', 'hour', 'minute',\n",
       "       'second', 'browser_Chrome', 'browser_Chrome Mobile', 'browser_Edge',\n",
       "       'browser_Facebook', 'browser_FacebookBot', 'browser_Firefox',\n",
       "       'browser_Google', 'browser_ImagesiftBot', 'browser_Mobile Safari',\n",
       "       'browser_Mobile Safari UI/WKWebView', 'browser_Opera', 'browser_Other',\n",
       "       'browser_Safari', 'browser_Samsung Internet', 'os_Android',\n",
       "       'os_Chrome OS', 'os_Linux', 'os_Mac OS X', 'os_Other', 'os_Ubuntu',\n",
       "       'os_Windows', 'os_iOS', 'device_type_bot', 'device_type_desktop',\n",
       "       'device_type_mobile', 'device_type_other', 'device_type_tablet'],\n",
       "      dtype='object')"
      ]
     },
     "execution_count": 24,
     "metadata": {},
     "output_type": "execute_result"
    }
   ],
   "source": [
    "df.columns"
   ]
  },
  {
   "cell_type": "code",
   "execution_count": 26,
   "metadata": {},
   "outputs": [
    {
     "data": {
      "text/plain": [
       "Index(['ip_as_int', 'year', 'month', 'day', 'hour', 'minute', 'second',\n",
       "       'browser_Chrome', 'browser_Chrome Mobile', 'browser_Edge',\n",
       "       'browser_Facebook', 'browser_FacebookBot', 'browser_Firefox',\n",
       "       'browser_Google', 'browser_ImagesiftBot', 'browser_Mobile Safari',\n",
       "       'browser_Mobile Safari UI/WKWebView', 'browser_Opera', 'browser_Other',\n",
       "       'browser_Safari', 'browser_Samsung Internet', 'os_Android',\n",
       "       'os_Chrome OS', 'os_Linux', 'os_Mac OS X', 'os_Other', 'os_Ubuntu',\n",
       "       'os_Windows', 'os_iOS', 'device_type_bot', 'device_type_desktop',\n",
       "       'device_type_mobile', 'device_type_other', 'device_type_tablet'],\n",
       "      dtype='object')"
      ]
     },
     "execution_count": 26,
     "metadata": {},
     "output_type": "execute_result"
    }
   ],
   "source": [
    "X.columns"
   ]
  },
  {
   "cell_type": "code",
   "execution_count": 28,
   "metadata": {},
   "outputs": [],
   "source": [
    "X_new = df_new.drop('status', axis=1)\n",
    "y_new = df_new['status']"
   ]
  },
  {
   "cell_type": "code",
   "execution_count": 31,
   "metadata": {},
   "outputs": [
    {
     "data": {
      "text/plain": [
       "Index(['browser_Chrome', 'browser_Chrome Mobile', 'browser_Edge',\n",
       "       'browser_Facebook', 'browser_FacebookBot', 'browser_Firefox',\n",
       "       'browser_Google', 'browser_ImagesiftBot', 'browser_Mobile Safari',\n",
       "       'browser_Mobile Safari UI/WKWebView', 'browser_Opera', 'browser_Other',\n",
       "       'browser_Safari', 'browser_Samsung Internet', 'os_Android',\n",
       "       'os_Chrome OS', 'os_Linux', 'os_Mac OS X', 'os_Other', 'os_Ubuntu',\n",
       "       'os_Windows', 'os_iOS', 'device_type_bot', 'device_type_desktop',\n",
       "       'device_type_mobile', 'device_type_other', 'device_type_tablet',\n",
       "       'ip_as_int', 'year', 'month', 'day', 'hour', 'minute', 'second'],\n",
       "      dtype='object')"
      ]
     },
     "execution_count": 31,
     "metadata": {},
     "output_type": "execute_result"
    }
   ],
   "source": [
    "X_new.columns"
   ]
  },
  {
   "cell_type": "code",
   "execution_count": 30,
   "metadata": {},
   "outputs": [],
   "source": [
    "col_to_drop = ['AMS_trans_rsn_cd_0', 'AMS_trans_rsn_cd_2', 'AMS_trans_rsn_cd_4',\n",
    "       'AMS_trans_rsn_cd_5', 'AMS_trans_rsn_cd_6', 'AMS_trans_rsn_cd_7',\n",
    "       'AMS_trans_rsn_cd_8', 'Unnamed: 0']\n",
    "\n",
    "X_new.drop(columns=col_to_drop, inplace=True)\n"
   ]
  },
  {
   "cell_type": "code",
   "execution_count": 36,
   "metadata": {},
   "outputs": [],
   "source": [
    "# X_new = X_new.reindex(columns=X, fill_value=0)\n"
   ]
  },
  {
   "cell_type": "code",
   "execution_count": 37,
   "metadata": {},
   "outputs": [
    {
     "data": {
      "text/plain": [
       "Index(['ip_as_int', 'year', 'month', 'day', 'hour', 'minute', 'second',\n",
       "       'browser_Chrome', 'browser_Chrome Mobile', 'browser_Edge',\n",
       "       'browser_Facebook', 'browser_FacebookBot', 'browser_Firefox',\n",
       "       'browser_Google', 'browser_ImagesiftBot', 'browser_Mobile Safari',\n",
       "       'browser_Mobile Safari UI/WKWebView', 'browser_Opera', 'browser_Other',\n",
       "       'browser_Safari', 'browser_Samsung Internet', 'os_Android',\n",
       "       'os_Chrome OS', 'os_Linux', 'os_Mac OS X', 'os_Other', 'os_Ubuntu',\n",
       "       'os_Windows', 'os_iOS', 'device_type_bot', 'device_type_desktop',\n",
       "       'device_type_mobile', 'device_type_other', 'device_type_tablet'],\n",
       "      dtype='object')"
      ]
     },
     "execution_count": 37,
     "metadata": {},
     "output_type": "execute_result"
    }
   ],
   "source": [
    "X_new.columns"
   ]
  },
  {
   "cell_type": "code",
   "execution_count": 38,
   "metadata": {},
   "outputs": [
    {
     "data": {
      "text/plain": [
       "Index(['ip_as_int', 'year', 'month', 'day', 'hour', 'minute', 'second',\n",
       "       'browser_Chrome', 'browser_Chrome Mobile', 'browser_Edge',\n",
       "       'browser_Facebook', 'browser_FacebookBot', 'browser_Firefox',\n",
       "       'browser_Google', 'browser_ImagesiftBot', 'browser_Mobile Safari',\n",
       "       'browser_Mobile Safari UI/WKWebView', 'browser_Opera', 'browser_Other',\n",
       "       'browser_Safari', 'browser_Samsung Internet', 'os_Android',\n",
       "       'os_Chrome OS', 'os_Linux', 'os_Mac OS X', 'os_Other', 'os_Ubuntu',\n",
       "       'os_Windows', 'os_iOS', 'device_type_bot', 'device_type_desktop',\n",
       "       'device_type_mobile', 'device_type_other', 'device_type_tablet'],\n",
       "      dtype='object')"
      ]
     },
     "execution_count": 38,
     "metadata": {},
     "output_type": "execute_result"
    }
   ],
   "source": [
    "X.columns"
   ]
  },
  {
   "cell_type": "code",
   "execution_count": 35,
   "metadata": {},
   "outputs": [],
   "source": [
    "X_new = X_new[X.columns]\n"
   ]
  },
  {
   "cell_type": "code",
   "execution_count": 39,
   "metadata": {},
   "outputs": [
    {
     "data": {
      "text/plain": [
       "(21358,)"
      ]
     },
     "execution_count": 39,
     "metadata": {},
     "output_type": "execute_result"
    }
   ],
   "source": [
    "y_new.shape"
   ]
  },
  {
   "cell_type": "code",
   "execution_count": 40,
   "metadata": {},
   "outputs": [],
   "source": [
    "y_pred = model.predict(X_new)"
   ]
  },
  {
   "cell_type": "code",
   "execution_count": 41,
   "metadata": {},
   "outputs": [
    {
     "name": "stdout",
     "output_type": "stream",
     "text": [
      "Accuracy: 0.94\n",
      "Precision: 0.95\n",
      "Recall: 0.98\n",
      "F1 Score: 0.97\n",
      "Confusion Matrix:\n",
      "[[ 1776   963]\n",
      " [  285 18334]]\n"
     ]
    }
   ],
   "source": [
    "from sklearn.metrics import accuracy_score, precision_score, recall_score, f1_score, confusion_matrix\n",
    "\n",
    "# Calculate metrics\n",
    "accuracy = accuracy_score(y_new, y_pred)\n",
    "precision = precision_score(y_new, y_pred)\n",
    "recall = recall_score(y_new, y_pred)\n",
    "f1 = f1_score(y_new, y_pred)\n",
    "conf_matrix = confusion_matrix(y_new, y_pred)\n",
    "\n",
    "# Display the results\n",
    "print(f\"Accuracy: {accuracy:.2f}\")\n",
    "print(f\"Precision: {precision:.2f}\")\n",
    "print(f\"Recall: {recall:.2f}\")\n",
    "print(f\"F1 Score: {f1:.2f}\")\n",
    "print(\"Confusion Matrix:\")\n",
    "print(conf_matrix)\n"
   ]
  },
  {
   "cell_type": "code",
   "execution_count": null,
   "metadata": {},
   "outputs": [
    {
     "ename": "NameError",
     "evalue": "name 'df_encoded' is not defined",
     "output_type": "error",
     "traceback": [
      "\u001b[1;31m---------------------------------------------------------------------------\u001b[0m",
      "\u001b[1;31mNameError\u001b[0m                                 Traceback (most recent call last)",
      "Cell \u001b[1;32mIn[2], line 2\u001b[0m\n\u001b[0;32m      1\u001b[0m \u001b[38;5;66;03m# result_concat = pd.concat([df, df2], axis=1)\u001b[39;00m\n\u001b[1;32m----> 2\u001b[0m \u001b[43mdf_encoded\u001b[49m\u001b[38;5;241m.\u001b[39mhead()\n\u001b[0;32m      3\u001b[0m \u001b[38;5;66;03m# X_new.to_csv()\u001b[39;00m\n\u001b[0;32m      4\u001b[0m \u001b[38;5;66;03m# X.to_csv()\u001b[39;00m\n\u001b[0;32m      5\u001b[0m \u001b[38;5;66;03m# y.to_csv()\u001b[39;00m\n",
      "\u001b[1;31mNameError\u001b[0m: name 'df_encoded' is not defined"
     ]
    }
   ],
   "source": [
    "# result_concat = pd.concat([df, df2], axis=1)\n",
    "\n",
    "X.to_csv()\n",
    "y.to_csv()\n",
    "X_new.to_csv()\n",
    "y_new.to_csv()"
   ]
  },
  {
   "cell_type": "code",
   "execution_count": null,
   "metadata": {},
   "outputs": [],
   "source": []
  }
 ],
 "metadata": {
  "kernelspec": {
   "display_name": "env",
   "language": "python",
   "name": "python3"
  },
  "language_info": {
   "codemirror_mode": {
    "name": "ipython",
    "version": 3
   },
   "file_extension": ".py",
   "mimetype": "text/x-python",
   "name": "python",
   "nbconvert_exporter": "python",
   "pygments_lexer": "ipython3",
   "version": "3.12.6"
  }
 },
 "nbformat": 4,
 "nbformat_minor": 2
}
